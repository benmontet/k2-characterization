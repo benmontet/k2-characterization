{
 "metadata": {
  "name": "",
  "signature": "sha256:3095d345129d034ab03302a53706dd67979a3aa117c689181ef322ade3f3d669"
 },
 "nbformat": 3,
 "nbformat_minor": 0,
 "worksheets": [
  {
   "cells": [
    {
     "cell_type": "code",
     "collapsed": false,
     "input": [
      "%matplotlib inline\n",
      "\n",
      "import matplotlib.pyplot as plt\n",
      "import numpy as np\n",
      "import pandas as pd\n",
      "\n",
      "from k2fpp.transitsignal import get_samples\n",
      "from k2fpp.tables import PAPER1_TABLE"
     ],
     "language": "python",
     "metadata": {},
     "outputs": [],
     "prompt_number": 1
    },
    {
     "cell_type": "code",
     "collapsed": false,
     "input": [
      "PAPER1_TABLE.head()"
     ],
     "language": "python",
     "metadata": {},
     "outputs": [
      {
       "html": [
        "<div style=\"max-height:1000px;max-width:1500px;overflow:auto;\">\n",
        "<table border=\"1\" class=\"dataframe\">\n",
        "  <thead>\n",
        "    <tr style=\"text-align: right;\">\n",
        "      <th></th>\n",
        "      <th>dec</th>\n",
        "      <th>epic_id</th>\n",
        "      <th>epoch</th>\n",
        "      <th>period</th>\n",
        "      <th>ra</th>\n",
        "      <th>rprs</th>\n",
        "    </tr>\n",
        "    <tr>\n",
        "      <th>epic_id</th>\n",
        "      <th></th>\n",
        "      <th></th>\n",
        "      <th></th>\n",
        "      <th></th>\n",
        "      <th></th>\n",
        "      <th></th>\n",
        "    </tr>\n",
        "  </thead>\n",
        "  <tbody>\n",
        "    <tr>\n",
        "      <th>201208431</th>\n",
        "      <td>-3.905585</td>\n",
        "      <td> 201208431</td>\n",
        "      <td>  7.5216</td>\n",
        "      <td> 10.0040</td>\n",
        "      <td> 174.745640</td>\n",
        "      <td> 0.0349</td>\n",
        "    </tr>\n",
        "    <tr>\n",
        "      <th>201257461</th>\n",
        "      <td>-3.094936</td>\n",
        "      <td> 201257461</td>\n",
        "      <td> 20.3735</td>\n",
        "      <td> 50.2677</td>\n",
        "      <td> 178.161109</td>\n",
        "      <td> 0.0334</td>\n",
        "    </tr>\n",
        "    <tr>\n",
        "      <th>201295312</th>\n",
        "      <td>-2.520881</td>\n",
        "      <td> 201295312</td>\n",
        "      <td>  3.7228</td>\n",
        "      <td>  5.6562</td>\n",
        "      <td> 174.011630</td>\n",
        "      <td> 0.0175</td>\n",
        "    </tr>\n",
        "    <tr>\n",
        "      <th>201338508</th>\n",
        "      <td>-1.877976</td>\n",
        "      <td> 201338508</td>\n",
        "      <td>  6.5967</td>\n",
        "      <td> 10.9328</td>\n",
        "      <td> 169.303502</td>\n",
        "      <td> 0.0339</td>\n",
        "    </tr>\n",
        "    <tr>\n",
        "      <th>201338508</th>\n",
        "      <td>-1.877976</td>\n",
        "      <td> 201338508</td>\n",
        "      <td>  0.8626</td>\n",
        "      <td>  5.7350</td>\n",
        "      <td> 169.303502</td>\n",
        "      <td> 0.0331</td>\n",
        "    </tr>\n",
        "  </tbody>\n",
        "</table>\n",
        "</div>"
       ],
       "metadata": {},
       "output_type": "pyout",
       "prompt_number": 2,
       "text": [
        "                dec    epic_id    epoch   period          ra    rprs\n",
        "epic_id                                                             \n",
        "201208431 -3.905585  201208431   7.5216  10.0040  174.745640  0.0349\n",
        "201257461 -3.094936  201257461  20.3735  50.2677  178.161109  0.0334\n",
        "201295312 -2.520881  201295312   3.7228   5.6562  174.011630  0.0175\n",
        "201338508 -1.877976  201338508   6.5967  10.9328  169.303502  0.0339\n",
        "201338508 -1.877976  201338508   0.8626   5.7350  169.303502  0.0331"
       ]
      }
     ],
     "prompt_number": 2
    },
    {
     "cell_type": "code",
     "collapsed": false,
     "input": [
      "samples = get_samples(PAPER1_TABLE.index[0])"
     ],
     "language": "python",
     "metadata": {},
     "outputs": [
      {
       "output_type": "stream",
       "stream": "stderr",
       "text": [
        "ERROR:root:samples/201208431.h5\n"
       ]
      },
      {
       "ename": "TypeError",
       "evalue": "cannot create a storer if the object is not existing nor a value are passed",
       "output_type": "pyerr",
       "traceback": [
        "\u001b[1;31m---------------------------------------------------------------------------\u001b[0m\n\u001b[1;31mTypeError\u001b[0m                                 Traceback (most recent call last)",
        "\u001b[1;32m<ipython-input-3-0737dc0680aa>\u001b[0m in \u001b[0;36m<module>\u001b[1;34m()\u001b[0m\n\u001b[1;32m----> 1\u001b[1;33m \u001b[0msamples\u001b[0m \u001b[1;33m=\u001b[0m \u001b[0mget_samples\u001b[0m\u001b[1;33m(\u001b[0m\u001b[0mPAPER1_TABLE\u001b[0m\u001b[1;33m.\u001b[0m\u001b[0mindex\u001b[0m\u001b[1;33m[\u001b[0m\u001b[1;36m0\u001b[0m\u001b[1;33m]\u001b[0m\u001b[1;33m)\u001b[0m\u001b[1;33m\u001b[0m\u001b[0m\n\u001b[0m",
        "\u001b[1;32m/u/tdm/repositories/k2-characterization/fpp/k2fpp/transitsignal.py\u001b[0m in \u001b[0;36mget_samples\u001b[1;34m(epic_id)\u001b[0m\n\u001b[0;32m     21\u001b[0m \u001b[1;33m\u001b[0m\u001b[0m\n\u001b[0;32m     22\u001b[0m     \u001b[1;32mtry\u001b[0m\u001b[1;33m:\u001b[0m\u001b[1;33m\u001b[0m\u001b[0m\n\u001b[1;32m---> 23\u001b[1;33m         \u001b[0msamples\u001b[0m \u001b[1;33m=\u001b[0m \u001b[0mpd\u001b[0m\u001b[1;33m.\u001b[0m\u001b[0mread_hdf\u001b[0m\u001b[1;33m(\u001b[0m\u001b[0mfilename\u001b[0m\u001b[1;33m,\u001b[0m \u001b[1;34m'samples'\u001b[0m\u001b[1;33m)\u001b[0m\u001b[1;33m\u001b[0m\u001b[0m\n\u001b[0m\u001b[0;32m     24\u001b[0m     \u001b[1;32mexcept\u001b[0m\u001b[1;33m:\u001b[0m\u001b[1;33m\u001b[0m\u001b[0m\n\u001b[0;32m     25\u001b[0m         \u001b[0mlogging\u001b[0m\u001b[1;33m.\u001b[0m\u001b[0merror\u001b[0m\u001b[1;33m(\u001b[0m\u001b[0mfilename\u001b[0m\u001b[1;33m)\u001b[0m\u001b[1;33m\u001b[0m\u001b[0m\n",
        "\u001b[1;32m/u/tdm/anaconda/lib/python2.7/site-packages/pandas/io/pytables.pyc\u001b[0m in \u001b[0;36mread_hdf\u001b[1;34m(path_or_buf, key, **kwargs)\u001b[0m\n\u001b[0;32m    321\u001b[0m         \u001b[0mstore\u001b[0m \u001b[1;33m=\u001b[0m \u001b[0mHDFStore\u001b[0m\u001b[1;33m(\u001b[0m\u001b[0mpath_or_buf\u001b[0m\u001b[1;33m,\u001b[0m \u001b[1;33m**\u001b[0m\u001b[0mkwargs\u001b[0m\u001b[1;33m)\u001b[0m\u001b[1;33m\u001b[0m\u001b[0m\n\u001b[0;32m    322\u001b[0m         \u001b[1;32mtry\u001b[0m\u001b[1;33m:\u001b[0m\u001b[1;33m\u001b[0m\u001b[0m\n\u001b[1;32m--> 323\u001b[1;33m             \u001b[1;32mreturn\u001b[0m \u001b[0mf\u001b[0m\u001b[1;33m(\u001b[0m\u001b[0mstore\u001b[0m\u001b[1;33m,\u001b[0m \u001b[0mTrue\u001b[0m\u001b[1;33m)\u001b[0m\u001b[1;33m\u001b[0m\u001b[0m\n\u001b[0m\u001b[0;32m    324\u001b[0m         \u001b[1;32mexcept\u001b[0m\u001b[1;33m:\u001b[0m\u001b[1;33m\u001b[0m\u001b[0m\n\u001b[0;32m    325\u001b[0m \u001b[1;33m\u001b[0m\u001b[0m\n",
        "\u001b[1;32m/u/tdm/anaconda/lib/python2.7/site-packages/pandas/io/pytables.pyc\u001b[0m in \u001b[0;36m<lambda>\u001b[1;34m(store, auto_close)\u001b[0m\n\u001b[0;32m    303\u001b[0m \u001b[1;33m\u001b[0m\u001b[0m\n\u001b[0;32m    304\u001b[0m     f = lambda store, auto_close: store.select(\n\u001b[1;32m--> 305\u001b[1;33m         key, auto_close=auto_close, **kwargs)\n\u001b[0m\u001b[0;32m    306\u001b[0m \u001b[1;33m\u001b[0m\u001b[0m\n\u001b[0;32m    307\u001b[0m     \u001b[1;32mif\u001b[0m \u001b[0misinstance\u001b[0m\u001b[1;33m(\u001b[0m\u001b[0mpath_or_buf\u001b[0m\u001b[1;33m,\u001b[0m \u001b[0mstring_types\u001b[0m\u001b[1;33m)\u001b[0m\u001b[1;33m:\u001b[0m\u001b[1;33m\u001b[0m\u001b[0m\n",
        "\u001b[1;32m/u/tdm/anaconda/lib/python2.7/site-packages/pandas/io/pytables.pyc\u001b[0m in \u001b[0;36mselect\u001b[1;34m(self, key, where, start, stop, columns, iterator, chunksize, auto_close, **kwargs)\u001b[0m\n\u001b[0;32m    649\u001b[0m         \u001b[1;31m# create the storer and axes\u001b[0m\u001b[1;33m\u001b[0m\u001b[1;33m\u001b[0m\u001b[0m\n\u001b[0;32m    650\u001b[0m         \u001b[0mwhere\u001b[0m \u001b[1;33m=\u001b[0m \u001b[0m_ensure_term\u001b[0m\u001b[1;33m(\u001b[0m\u001b[0mwhere\u001b[0m\u001b[1;33m,\u001b[0m \u001b[0mscope_level\u001b[0m\u001b[1;33m=\u001b[0m\u001b[1;36m1\u001b[0m\u001b[1;33m)\u001b[0m\u001b[1;33m\u001b[0m\u001b[0m\n\u001b[1;32m--> 651\u001b[1;33m         \u001b[0ms\u001b[0m \u001b[1;33m=\u001b[0m \u001b[0mself\u001b[0m\u001b[1;33m.\u001b[0m\u001b[0m_create_storer\u001b[0m\u001b[1;33m(\u001b[0m\u001b[0mgroup\u001b[0m\u001b[1;33m)\u001b[0m\u001b[1;33m\u001b[0m\u001b[0m\n\u001b[0m\u001b[0;32m    652\u001b[0m         \u001b[0ms\u001b[0m\u001b[1;33m.\u001b[0m\u001b[0minfer_axes\u001b[0m\u001b[1;33m(\u001b[0m\u001b[1;33m)\u001b[0m\u001b[1;33m\u001b[0m\u001b[0m\n\u001b[0;32m    653\u001b[0m \u001b[1;33m\u001b[0m\u001b[0m\n",
        "\u001b[1;32m/u/tdm/anaconda/lib/python2.7/site-packages/pandas/io/pytables.pyc\u001b[0m in \u001b[0;36m_create_storer\u001b[1;34m(self, group, format, value, append, **kwargs)\u001b[0m\n\u001b[0;32m   1146\u001b[0m                 \u001b[1;32melse\u001b[0m\u001b[1;33m:\u001b[0m\u001b[1;33m\u001b[0m\u001b[0m\n\u001b[0;32m   1147\u001b[0m                     raise TypeError(\n\u001b[1;32m-> 1148\u001b[1;33m                         \u001b[1;34m\"cannot create a storer if the object is not existing \"\u001b[0m\u001b[1;33m\u001b[0m\u001b[0m\n\u001b[0m\u001b[0;32m   1149\u001b[0m                         \"nor a value are passed\")\n\u001b[0;32m   1150\u001b[0m             \u001b[1;32melse\u001b[0m\u001b[1;33m:\u001b[0m\u001b[1;33m\u001b[0m\u001b[0m\n",
        "\u001b[1;31mTypeError\u001b[0m: cannot create a storer if the object is not existing nor a value are passed"
       ]
      }
     ],
     "prompt_number": 3
    },
    {
     "cell_type": "code",
     "collapsed": false,
     "input": [
      "ls -ltr samples"
     ],
     "language": "python",
     "metadata": {},
     "outputs": [
      {
       "output_type": "stream",
       "stream": "stdout",
       "text": [
        "total 54344\r\n",
        "-rw-rw-r--. 1 tdm tdm 1202144 Feb 27 11:13 201208431.h5\r\n",
        "-rw-rw-r--. 1 tdm tdm 1202144 Feb 27 11:13 201257461.h5\r\n",
        "-rw-rw-r--. 1 tdm tdm 1202144 Feb 27 11:13 201295312.h5\r\n",
        "-rw-rw-r--. 1 tdm tdm 4802144 Feb 27 11:13 201338508.h5\r\n",
        "-rw-rw-r--. 1 tdm tdm 4802144 Feb 27 11:14 201367065.h5\r\n",
        "-rw-rw-r--. 1 tdm tdm 1202144 Feb 27 11:14 201384232.h5\r\n",
        "-rw-rw-r--. 1 tdm tdm 1202144 Feb 27 11:14 201393098.h5\r\n",
        "-rw-rw-r--. 1 tdm tdm 1202144 Feb 27 11:14 201403446.h5\r\n",
        "-rw-rw-r--. 1 tdm tdm 4802144 Feb 27 11:14 201445392.h5\r\n",
        "-rw-rw-r--. 1 tdm tdm 1202144 Feb 27 11:14 201465501.h5\r\n",
        "-rw-rw-r--. 1 tdm tdm 4802144 Feb 27 11:14 201505350.h5\r\n",
        "-rw-rw-r--. 1 tdm tdm 1202144 Feb 27 11:14 201546283.h5\r\n",
        "-rw-rw-r--. 1 tdm tdm 1202144 Feb 27 11:14 201549860.h5\r\n",
        "-rw-rw-r--. 1 tdm tdm 1202144 Feb 27 11:14 201555883.h5\r\n",
        "-rw-rw-r--. 1 tdm tdm 1202144 Feb 27 11:14 201565013.h5\r\n",
        "-rw-rw-r--. 1 tdm tdm 1202144 Feb 27 11:14 201569483.h5\r\n",
        "-rw-rw-r--. 1 tdm tdm 1202144 Feb 27 11:14 201577035.h5\r\n",
        "-rw-rw-r--. 1 tdm tdm 1202144 Feb 27 11:14 201596316.h5\r\n",
        "-rw-rw-r--. 1 tdm tdm 1202144 Feb 27 11:14 201613023.h5\r\n",
        "-rw-rw-r--. 1 tdm tdm 1202144 Feb 27 11:15 201617985.h5\r\n",
        "-rw-rw-r--. 1 tdm tdm 1202144 Feb 27 11:15 201629650.h5\r\n",
        "-rw-rw-r--. 1 tdm tdm 1202144 Feb 27 11:15 201635569.h5\r\n",
        "-rw-rw-r--. 1 tdm tdm 1202144 Feb 27 11:15 201649426.h5\r\n",
        "-rw-rw-r--. 1 tdm tdm 1202144 Feb 27 11:15 201702477.h5\r\n",
        "-rw-rw-r--. 1 tdm tdm 1202144 Feb 27 11:15 201736247.h5\r\n",
        "-rw-rw-r--. 1 tdm tdm 4802144 Feb 27 11:15 201754305.h5\r\n",
        "-rw-rw-r--. 1 tdm tdm 1202144 Feb 27 11:15 201779067.h5\r\n",
        "-rw-rw-r--. 1 tdm tdm 1202144 Feb 27 11:15 201828749.h5\r\n",
        "-rw-rw-r--. 1 tdm tdm 1202144 Feb 27 11:15 201855371.h5\r\n",
        "-rw-rw-r--. 1 tdm tdm 1202144 Feb 27 11:15 201912552.h5\r\n",
        "-rw-rw-r--. 1 tdm tdm 1202144 Feb 27 11:15 201929294.h5\r\n"
       ]
      }
     ],
     "prompt_number": 15
    },
    {
     "cell_type": "code",
     "collapsed": false,
     "input": [
      "store = pd.HDFStore('samples/201208431.h5')"
     ],
     "language": "python",
     "metadata": {},
     "outputs": [],
     "prompt_number": 11
    },
    {
     "cell_type": "code",
     "collapsed": false,
     "input": [
      "store"
     ],
     "language": "python",
     "metadata": {},
     "outputs": [
      {
       "metadata": {},
       "output_type": "pyout",
       "prompt_number": 12,
       "text": [
        "<class 'pandas.io.pytables.HDFStore'>\n",
        "File path: samples/201208431.h5\n",
        "Empty"
       ]
      }
     ],
     "prompt_number": 12
    },
    {
     "cell_type": "code",
     "collapsed": false,
     "input": [
      "store.close()"
     ],
     "language": "python",
     "metadata": {},
     "outputs": [],
     "prompt_number": 13
    },
    {
     "cell_type": "code",
     "collapsed": false,
     "input": [],
     "language": "python",
     "metadata": {},
     "outputs": []
    }
   ],
   "metadata": {}
  }
 ]
}