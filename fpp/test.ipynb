{
 "metadata": {
  "name": "",
  "signature": "sha256:c9f92a9310ea7bac733dd43fcdf850c2800fb41933e918e7dc73be7bbab8c46b"
 },
 "nbformat": 3,
 "nbformat_minor": 0,
 "worksheets": [
  {
   "cells": [
    {
     "cell_type": "code",
     "collapsed": false,
     "input": [
      "%matplotlib inline\n",
      "\n",
      "import matplotlib.pyplot as plt\n",
      "import numpy as np\n",
      "import pandas as pd\n",
      "\n",
      "from k2fpp.transitsignal import get_samples, K2_TransitSignal\n",
      "from k2fpp.tables import PAPER1_TABLE\n",
      "from k2fpp.starmodels import EPIC_StarModel"
     ],
     "language": "python",
     "metadata": {},
     "outputs": [],
     "prompt_number": 1
    },
    {
     "cell_type": "code",
     "collapsed": false,
     "input": [
      "PAPER1_TABLE.head(5)"
     ],
     "language": "python",
     "metadata": {},
     "outputs": [
      {
       "html": [
        "<div style=\"max-height:1000px;max-width:1500px;overflow:auto;\">\n",
        "<table border=\"1\" class=\"dataframe\">\n",
        "  <thead>\n",
        "    <tr style=\"text-align: right;\">\n",
        "      <th></th>\n",
        "      <th>dec</th>\n",
        "      <th>epic_id</th>\n",
        "      <th>epoch</th>\n",
        "      <th>period</th>\n",
        "      <th>ra</th>\n",
        "      <th>rprs</th>\n",
        "    </tr>\n",
        "    <tr>\n",
        "      <th>epic_id</th>\n",
        "      <th></th>\n",
        "      <th></th>\n",
        "      <th></th>\n",
        "      <th></th>\n",
        "      <th></th>\n",
        "      <th></th>\n",
        "    </tr>\n",
        "  </thead>\n",
        "  <tbody>\n",
        "    <tr>\n",
        "      <th>201208431</th>\n",
        "      <td>-3.905585</td>\n",
        "      <td> 201208431</td>\n",
        "      <td>  7.5216</td>\n",
        "      <td> 10.0040</td>\n",
        "      <td> 174.745640</td>\n",
        "      <td> 0.0349</td>\n",
        "    </tr>\n",
        "    <tr>\n",
        "      <th>201257461</th>\n",
        "      <td>-3.094936</td>\n",
        "      <td> 201257461</td>\n",
        "      <td> 20.3735</td>\n",
        "      <td> 50.2677</td>\n",
        "      <td> 178.161109</td>\n",
        "      <td> 0.0334</td>\n",
        "    </tr>\n",
        "    <tr>\n",
        "      <th>201295312</th>\n",
        "      <td>-2.520881</td>\n",
        "      <td> 201295312</td>\n",
        "      <td>  3.7228</td>\n",
        "      <td>  5.6562</td>\n",
        "      <td> 174.011630</td>\n",
        "      <td> 0.0175</td>\n",
        "    </tr>\n",
        "    <tr>\n",
        "      <th>201338508</th>\n",
        "      <td>-1.877976</td>\n",
        "      <td> 201338508</td>\n",
        "      <td>  6.5967</td>\n",
        "      <td> 10.9328</td>\n",
        "      <td> 169.303502</td>\n",
        "      <td> 0.0339</td>\n",
        "    </tr>\n",
        "    <tr>\n",
        "      <th>201338508</th>\n",
        "      <td>-1.877976</td>\n",
        "      <td> 201338508</td>\n",
        "      <td>  0.8626</td>\n",
        "      <td>  5.7350</td>\n",
        "      <td> 169.303502</td>\n",
        "      <td> 0.0331</td>\n",
        "    </tr>\n",
        "  </tbody>\n",
        "</table>\n",
        "</div>"
       ],
       "metadata": {},
       "output_type": "pyout",
       "prompt_number": 2,
       "text": [
        "                dec    epic_id    epoch   period          ra    rprs\n",
        "epic_id                                                             \n",
        "201208431 -3.905585  201208431   7.5216  10.0040  174.745640  0.0349\n",
        "201257461 -3.094936  201257461  20.3735  50.2677  178.161109  0.0334\n",
        "201295312 -2.520881  201295312   3.7228   5.6562  174.011630  0.0175\n",
        "201338508 -1.877976  201338508   6.5967  10.9328  169.303502  0.0339\n",
        "201338508 -1.877976  201338508   0.8626   5.7350  169.303502  0.0331"
       ]
      }
     ],
     "prompt_number": 2
    },
    {
     "cell_type": "code",
     "collapsed": false,
     "input": [
      "trsig = K2_TransitSignal(201208431)"
     ],
     "language": "python",
     "metadata": {},
     "outputs": [],
     "prompt_number": 3
    },
    {
     "cell_type": "code",
     "collapsed": false,
     "input": [
      "mod = EPIC_StarModel(201208431)"
     ],
     "language": "python",
     "metadata": {},
     "outputs": [],
     "prompt_number": 4
    },
    {
     "cell_type": "code",
     "collapsed": false,
     "input": [
      "mod.fit_mcmc()"
     ],
     "language": "python",
     "metadata": {},
     "outputs": [],
     "prompt_number": 5
    },
    {
     "cell_type": "code",
     "collapsed": false,
     "input": [
      "mod.save_hdf('test_starmodel.h5')"
     ],
     "language": "python",
     "metadata": {},
     "outputs": [],
     "prompt_number": 6
    },
    {
     "cell_type": "code",
     "collapsed": false,
     "input": [
      "mod2 = EPIC_StarModel.load_hdf('test_starmodel.h5')"
     ],
     "language": "python",
     "metadata": {},
     "outputs": [],
     "prompt_number": 2
    },
    {
     "cell_type": "code",
     "collapsed": false,
     "input": [
      "store = pd.HDFStore('test_starmodel.h5')\n",
      "df = store['samples']"
     ],
     "language": "python",
     "metadata": {},
     "outputs": [],
     "prompt_number": 5
    },
    {
     "cell_type": "code",
     "collapsed": false,
     "input": [
      "df.columns"
     ],
     "language": "python",
     "metadata": {},
     "outputs": [
      {
       "metadata": {},
       "output_type": "pyout",
       "prompt_number": 7,
       "text": [
        "Index([u'B_mag', u'D51_mag', u'H_mag', u'I_mag', u'J_mag', u'K_mag', u'Kepler_mag', u'R_mag', u'Teff', u'U_mag', u'V_mag', u'W1_mag', u'W2_mag', u'W3_mag', u'W4_mag', u'age', u'g_mag', u'i_mag', u'logL', u'logg', u'mass', u'r_mag', u'radius', u'z_mag', u'feh', u'distance', u'AV'], dtype='object')"
       ]
      }
     ],
     "prompt_number": 7
    },
    {
     "cell_type": "code",
     "collapsed": false,
     "input": [
      "df.shape"
     ],
     "language": "python",
     "metadata": {},
     "outputs": [
      {
       "metadata": {},
       "output_type": "pyout",
       "prompt_number": 8,
       "text": [
        "(40000, 27)"
       ]
      }
     ],
     "prompt_number": 8
    },
    {
     "cell_type": "code",
     "collapsed": false,
     "input": [],
     "language": "python",
     "metadata": {},
     "outputs": []
    }
   ],
   "metadata": {}
  }
 ]
}