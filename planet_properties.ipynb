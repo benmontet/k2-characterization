{
 "cells": [
  {
   "cell_type": "code",
   "execution_count": 1,
   "metadata": {
    "collapsed": false
   },
   "outputs": [],
   "source": [
    "from __future__ import division, print_function\n",
    "\n",
    "%matplotlib inline\n",
    "%config InlineBackend.figure_format = \"retina\"\n",
    "\n",
    "from matplotlib import rcParams\n",
    "rcParams[\"savefig.dpi\"] = 100\n",
    "rcParams[\"font.size\"] = 20"
   ]
  },
  {
   "cell_type": "code",
   "execution_count": 2,
   "metadata": {
    "collapsed": false
   },
   "outputs": [],
   "source": [
    "import os\n",
    "import h5py\n",
    "import triangle\n",
    "import numpy as np\n",
    "import pandas as pd\n",
    "import matplotlib.pyplot as pl\n",
    "from subprocess import check_call\n",
    "from scipy.stats import gaussian_kde "
   ]
  },
  {
   "cell_type": "code",
   "execution_count": 31,
   "metadata": {
    "collapsed": false
   },
   "outputs": [],
   "source": [
    "candidates = np.array(open(\"candidates.txt\", \"r\").readlines(), dtype=int)"
   ]
  },
  {
   "cell_type": "code",
   "execution_count": 32,
   "metadata": {
    "collapsed": false
   },
   "outputs": [
    {
     "data": {
      "text/plain": [
       "array([201208431, 201257461, 201295312, 201338508, 201367065, 201384232,\n",
       "       201393098, 201403446, 201445392, 201465501, 201505350, 201546283,\n",
       "       201549860, 201555883, 201565013, 201569483, 201577035, 201596316,\n",
       "       201613023, 201617985, 201629650, 201635569, 201649426, 201702477,\n",
       "       201736247, 201754305, 201779067, 201828749, 201855371, 201912552,\n",
       "       201929294])"
      ]
     },
     "execution_count": 32,
     "metadata": {},
     "output_type": "execute_result"
    }
   ],
   "source": [
    "candidates"
   ]
  },
  {
   "cell_type": "code",
   "execution_count": 102,
   "metadata": {
    "collapsed": false
   },
   "outputs": [],
   "source": [
    "def calc_hist(x, w, fmt):\n",
    "    q = triangle.quantile(x, [0.16, 0.5, 0.84], weights=w)\n",
    "    mu = np.sum(x * w) / np.sum(w)\n",
    "    std = np.sqrt(np.sum((x - mu)**2 * w) / np.sum(w))\n",
    "    v = \"{{0:{0}}} \\pm {{{{{{1:{0}}}}}}}\".format(fmt).format(mu, std)\n",
    "#     d = np.diff(q)\n",
    "#     v = (\"{{0:{0}}}_{{{{-{{1:{0}}}}}}}^{{{{+{{2:{0}}}}}}}\"\n",
    "#          .format(fmt).format(q[1], d[0], d[1]))\n",
    "    return q, v\n",
    "\n",
    "def plot_hist(x, w, nm, units, fmt=\".2f\"):\n",
    "    q, v = calc_hist(x, w, fmt)\n",
    "    d = np.diff(q)\n",
    "    bins = np.linspace(q[1] - 3 * d[0], q[1] + 3 * d[1], 12)\n",
    "    \n",
    "    fig, ax = pl.subplots()\n",
    "    ax.hist(x, bins, weights=w, color=\"k\", histtype=\"step\", normed=True)\n",
    "    ax.axvline(q[1], color=\"k\")\n",
    "    ax.axvline(q[0], color=\"k\", linestyle=\"dashed\")\n",
    "    ax.axvline(q[2], color=\"k\", linestyle=\"dashed\")\n",
    "    if units is None:\n",
    "        ax.set_xlabel(\"${0}$\".format(nm))\n",
    "    else:\n",
    "        ax.set_xlabel(\"${0}\\,[{1}]$\".format(nm, units))\n",
    "    ax.set_yticklabels([])\n",
    "    if units is not None:\n",
    "        v = \"$\" + nm + \" = \" + v + \" \\, {0}$\".format(units)\n",
    "    else:\n",
    "        v = \"$\" + nm + \" = \" + v + \"$\"\n",
    "    ax.set_title(v)"
   ]
  },
  {
   "cell_type": "code",
   "execution_count": 109,
   "metadata": {
    "collapsed": false
   },
   "outputs": [],
   "source": [
    "d = \"starmodels_inflated\"\n",
    "\n",
    "def process_row(epic):\n",
    "    fn = \"stlr/{1}/{0}.h5\".format(int(epic), d)\n",
    "    if not os.path.exists(fn):\n",
    "        try:\n",
    "            os.makedirs(\"stlr/\" + d)\n",
    "        except os.error:\n",
    "            pass\n",
    "        check_call(\"wget -O {0} http://www.astro.princeton.edu/~tdm/k2/{2}/{1}.h5\"\n",
    "                   .format(fn, int(epic), d), shell=True)\n",
    "\n",
    "    # Load the stellar samples and build the Gaussian model.\n",
    "    star = pd.read_hdf(fn, \"samples\")\n",
    "    X = np.array(star[[\"radius\", \"mass\"]])\n",
    "    mu = np.mean(X, axis=0)\n",
    "    cov = np.cov(X, rowvar=0)\n",
    "    print(mu, np.sqrt(np.diag(cov)))\n",
    "    \n",
    "    # KDE shite.\n",
    "    # kde = gaussian_kde(np.array(star[[\"radius\", \"mass\"]]).T)\n",
    "    # Plot the KDE model.\n",
    "    #     x = np.linspace(star.radius.min(), star.radius.max(), 75)\n",
    "    #     y = np.linspace(star.mass.min(), star.mass.max(), 77)\n",
    "    #     X, Y = np.meshgrid(x, y, indexing=\"ij\")\n",
    "    #     positions = np.vstack([X.ravel(), Y.ravel()]) \n",
    "    #     Z = kde(positions).reshape((len(x), len(y)))\n",
    "    #     pl.pcolor(X, Y, Z, cmap=\"gray_r\")\n",
    "    #     pl.plot(star.radius, star.mass, \".r\", alpha=0.01)\n",
    "\n",
    "    # Load the samples and convert them to a DataFrame.\n",
    "    fn = \"../ketu/char/{0}/chain.h5\".format(int(epic))\n",
    "    with h5py.File(fn, \"r\") as f:\n",
    "        s0 = f[\"chain\"][::5, :, :]\n",
    "    cols = [\"ln_R_star\", \"ln_M_star\", \"q_1\", \"q_2\"]\n",
    "    i = 1\n",
    "    while len(cols) < s0.shape[-1]:\n",
    "        cols += [k + \"_{0}\".format(i) for k in\n",
    "                 (\"ln_R_p\", \"ln_P\", \"t_0\", \"b\", \"sqrt_e_sin_omega\", \"sqrt_e_cos_omega\")]\n",
    "        i += 1\n",
    "    nplanets = i - 1\n",
    "    dtype = [(k, np.float64) for k in cols]\n",
    "    samples = pd.DataFrame.from_items(zip(cols, s0.reshape((-1, s0.shape[-1])).T))\n",
    "    \n",
    "    # Supplement the samples with Teff measurements drawn from the stellar properties.\n",
    "    te = np.array(star.Teff)\n",
    "    inds = np.random.randint(len(te), size=len(samples))\n",
    "    samples[\"teff\"] = te[inds]\n",
    "    \n",
    "    r = (np.exp(np.array(samples[[\"ln_R_star\", \"ln_M_star\"]])) - mu).T\n",
    "    lnw = -0.5 * np.sum((np.linalg.solve(cov, r) * r) ** 2, axis=0)\n",
    "    \n",
    "    # lnw = np.log(kde(np.exp(np.array(samples[[\"ln_R_star\", \"ln_M_star\"]])).T))\n",
    "    \n",
    "    # Dartmouth model.\n",
    "    #     # Compute probability under the measured stellar parameters.\n",
    "    #     lnw = ((np.exp(samples.ln_R_star) - row.Rad) / row.e_Rad) ** 2\n",
    "    #     lnw += ((np.exp(samples.ln_M_star) - row.M) / row.e_M) ** 2\n",
    "    #     lnw *= -0.5\n",
    "    \n",
    "    # Inculde the interim prior that was 1/R and 1/M.\n",
    "    lnw += samples.ln_R_star + samples.ln_M_star\n",
    "    \n",
    "    # Use this to compute the weights for the samples.\n",
    "    samples[\"weights\"] = np.exp(lnw + lnw.max())\n",
    "    \n",
    "    rows = []\n",
    "    for i in range(nplanets):\n",
    "        r = [\"{0}\".format(int(epic)), \"{0}\".format(i+1)]\n",
    "        w = np.array(samples.weights)\n",
    "\n",
    "        # Plot the period measurement.\n",
    "        x = np.exp(np.array(samples[\"ln_P_{0}\".format(i+1)]))\n",
    "        _, v = calc_hist(x, w, \".4f\")\n",
    "        r.append(v)\n",
    "        # plot_hist(x, w, \"P_{{{0}}}\".format(i+1), \"\\mathrm{days}\", fmt=\".5f\")\n",
    "\n",
    "        # Plot the radius measurement.\n",
    "        x = np.exp(np.array(samples[\"ln_R_p_{0}\".format(i+1)])) / 0.009155\n",
    "        _, v = calc_hist(x, w, \".2f\")\n",
    "        r.append(v)\n",
    "        # plot_hist(x, w, \"R_{{p,{0}}}\".format(i+1), \"R_\\oplus\", fmt=\".2f\")\n",
    "        \n",
    "        # Plot the a/R_* measurement.\n",
    "        # Newton's constant in $R_\\odot^3 M_\\odot^{-1} {days}^{-2}$.\n",
    "        _G = 2945.4625385377644\n",
    "        lnp = samples[\"ln_P_{0}\".format(i+1)]\n",
    "        lnms = samples.ln_M_star\n",
    "        a = np.array(_G * np.exp(2*lnp+lnms)/(4*np.pi*np.pi)) ** (1./3)\n",
    "        \n",
    "        _, v = calc_hist(a * np.exp(-samples.ln_R_star), w, \".2f\")\n",
    "        r.append(v)\n",
    "        \n",
    "        _, v = calc_hist(a / 215.1, w, \".4f\")\n",
    "        r.append(v)\n",
    "        # plot_hist(a / 215.1, w, \"{{a}}_{{{0}}}\".format(i+1), \"\\mathrm{AU}\", fmt=\".4f\")\n",
    "        \n",
    "        # Teq\n",
    "        teq = samples.teff / np.sqrt(2. * a * np.exp(-samples.ln_R_star))\n",
    "        _, v = calc_hist(teq, w, \".0f\")\n",
    "        r.append(v)\n",
    "        # plot_hist(teq, w, \"{{T_\\mathrm{{eq}}}}_{{{0}}}\".format(i+1), \"\\mathrm{K}\", fmt=\".0f\")\n",
    "        \n",
    "        rows.append(\" & \".join(r) + \" \\\\\")\n",
    "    return rows"
   ]
  },
  {
   "cell_type": "code",
   "execution_count": 110,
   "metadata": {
    "collapsed": false
   },
   "outputs": [
    {
     "name": "stdout",
     "output_type": "stream",
     "text": [
      "[ 0.60934138  0.63640491] [ 0.03164453  0.03901752]\n",
      "[ 0.63464109  0.66993953] [ 0.04760949  0.05276432]\n",
      "[ 1.02347429  1.045045  ] [ 0.10071951  0.0738505 ]\n",
      "[ 0.56410861  0.58465262] [ 0.04694068  0.0531474 ]\n",
      "[ 0.53666077  0.55706176] [ 0.04333041  0.04585901]\n",
      "[ 0.95124337  0.98319588] [ 0.10157357  0.07395347]\n",
      "[ 0.91110121  0.96510059] [ 0.0772032   0.06538347]\n",
      "[ 1.14899452  1.12139758] [ 0.16926021  0.11492552]\n",
      "[ 0.69898822  0.74594342] [ 0.05264971  0.0608577 ]\n",
      "[ 0.31529289  0.3193461 ] [ 0.07693887  0.08847471]\n",
      "[ 0.79198862  0.83070025] [ 0.14043124  0.07833761]\n",
      "[ 0.78437046  0.84338938] [ 0.06740698  0.06960368]\n",
      "[ 0.66628104  0.70490952] [ 0.03385958  0.04400451]\n",
      "[ 0.57840644  0.60281512] [ 0.04464628  0.05005785]\n",
      "[ 0.51012742  0.53097229] [ 0.07093905  0.07690906]\n",
      "[ 0.7637729  0.8212061] [ 0.05312153  0.05951604]\n",
      "[ 0.89218389  0.92929604] [ 0.14094443  0.07124389]\n",
      "[ 0.75884301  0.82117373] [ 0.07290014  0.08119595]\n",
      "[ 0.89810132  0.94927357] [ 0.08753707  0.07047404]\n",
      "[ 0.46758586  0.49003183] [ 0.05034217  0.05270374]\n",
      "[ 0.79100285  0.83814578] [ 0.0692586   0.06719697]\n",
      "[ 0.48187314  0.50265427] [ 0.05723863  0.05848893]\n",
      "[ 0.61198952  0.64680198] [ 0.05419772  0.06073726]\n",
      "[ 0.87001064  0.91027327] [ 0.06561514  0.06031342]\n",
      "[ 0.74541447  0.79487418] [ 0.05233677  0.05878577]\n",
      "[ 0.64209355  0.67731192] [ 0.04695348  0.05575085]\n",
      "[ 0.95935628  0.93676184] [ 0.27691722  0.11494432]\n",
      "[ 0.802983    0.83924547] [ 0.19460274  0.084841  ]\n",
      "[ 0.63399513  0.66801258] [ 0.03829108  0.04671421]\n",
      "[ 0.38277184  0.39730493] [ 0.05066427  0.05907999]\n",
      "[ 0.6840119   0.72567455] [ 0.05584574  0.06609632]\n"
     ]
    }
   ],
   "source": [
    "rows = [process_row(e) for e in candidates]"
   ]
  },
  {
   "cell_type": "code",
   "execution_count": 111,
   "metadata": {
    "collapsed": false
   },
   "outputs": [],
   "source": [
    "txt = r\"\"\"\n",
    "\\clearpage\n",
    "%\\LongTables\n",
    "\\begin{deluxetable*}{lcccccc}\n",
    "\\tablewidth{0pt}\n",
    "\\tabletypesize{\\scriptsize}\n",
    "\\tablecaption{Planet Properties for all Objects of Interest \\label{Tab:Planets}}\n",
    "\\tablehead{\n",
    "\\colhead{EPIC} &\n",
    "\\colhead{Cand. Num.} &\n",
    "\\colhead{Period (days)} &\n",
    "\\colhead{Radius ($R_\\oplus$)} &\n",
    "\\colhead{$a/R_\\star$} &\n",
    "\\colhead{$a$ (AU)} &\n",
    "\\colhead{$T_\\mathrm{eq}$ (K)}\n",
    "}\n",
    "\\startdata\n",
    "DATADATA\n",
    "\\enddata\n",
    "\\tablecomments{blurgh.}\n",
    "\\end{deluxetable*}\n",
    "\"\"\".replace(\"DATADATA\", \"\\n\".join([\"$\" + r.replace(\" & \", \"$ & $\")[:-1] + r\"$ \\\\\" for _ in rows for r in _]))"
   ]
  },
  {
   "cell_type": "code",
   "execution_count": 112,
   "metadata": {
    "collapsed": false
   },
   "outputs": [],
   "source": [
    "with open(\"table_planets.tex\", \"w\") as f:\n",
    "    f.write(txt)"
   ]
  },
  {
   "cell_type": "code",
   "execution_count": null,
   "metadata": {
    "collapsed": false
   },
   "outputs": [],
   "source": []
  },
  {
   "cell_type": "code",
   "execution_count": null,
   "metadata": {
    "collapsed": false
   },
   "outputs": [],
   "source": []
  },
  {
   "cell_type": "code",
   "execution_count": null,
   "metadata": {
    "collapsed": true
   },
   "outputs": [],
   "source": []
  }
 ],
 "metadata": {
  "kernelspec": {
   "display_name": "Python 2",
   "language": "python",
   "name": "python2"
  },
  "language_info": {
   "codemirror_mode": {
    "name": "ipython",
    "version": 2
   },
   "file_extension": ".py",
   "mimetype": "text/x-python",
   "name": "python",
   "nbconvert_exporter": "python",
   "pygments_lexer": "ipython2",
   "version": "2.7.9"
  }
 },
 "nbformat": 4,
 "nbformat_minor": 0
}
