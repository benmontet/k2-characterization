{
 "cells": [
  {
   "cell_type": "code",
   "execution_count": 1,
   "metadata": {
    "collapsed": false
   },
   "outputs": [],
   "source": [
    "from __future__ import division, print_function\n",
    "\n",
    "%matplotlib inline\n",
    "%config InlineBackend.figure_format = \"retina\"\n",
    "\n",
    "from matplotlib import rcParams\n",
    "rcParams[\"savefig.dpi\"] = 100\n",
    "rcParams[\"font.size\"] = 20"
   ]
  },
  {
   "cell_type": "code",
   "execution_count": 2,
   "metadata": {
    "collapsed": false
   },
   "outputs": [],
   "source": [
    "import os\n",
    "import h5py\n",
    "import triangle\n",
    "import numpy as np\n",
    "import pandas as pd\n",
    "import matplotlib.pyplot as pl\n",
    "from subprocess import check_call\n",
    "from scipy.stats import gaussian_kde "
   ]
  },
  {
   "cell_type": "code",
   "execution_count": 31,
   "metadata": {
    "collapsed": false
   },
   "outputs": [],
   "source": [
    "candidates = np.array(open(\"candidates.txt\", \"r\").readlines(), dtype=int)"
   ]
  },
  {
   "cell_type": "code",
   "execution_count": 32,
   "metadata": {
    "collapsed": false
   },
   "outputs": [
    {
     "data": {
      "text/plain": [
       "array([201208431, 201257461, 201295312, 201338508, 201367065, 201384232,\n",
       "       201393098, 201403446, 201445392, 201465501, 201505350, 201546283,\n",
       "       201549860, 201555883, 201565013, 201569483, 201577035, 201596316,\n",
       "       201613023, 201617985, 201629650, 201635569, 201649426, 201702477,\n",
       "       201736247, 201754305, 201779067, 201828749, 201855371, 201912552,\n",
       "       201929294])"
      ]
     },
     "execution_count": 32,
     "metadata": {},
     "output_type": "execute_result"
    }
   ],
   "source": [
    "candidates"
   ]
  },
  {
   "cell_type": "code",
   "execution_count": 102,
   "metadata": {
    "collapsed": false
   },
   "outputs": [],
   "source": [
    "def calc_hist(x, w, fmt):\n",
    "    q = triangle.quantile(x, [0.16, 0.5, 0.84], weights=w)\n",
    "    mu = np.sum(x * w) / np.sum(w)\n",
    "    std = np.sqrt(np.sum((x - mu)**2 * w) / np.sum(w))\n",
    "    v = \"{{0:{0}}} \\pm {{{{{{1:{0}}}}}}}\".format(fmt).format(mu, std)\n",
    "#     d = np.diff(q)\n",
    "#     v = (\"{{0:{0}}}_{{{{-{{1:{0}}}}}}}^{{{{+{{2:{0}}}}}}}\"\n",
    "#          .format(fmt).format(q[1], d[0], d[1]))\n",
    "    return q, v\n",
    "\n",
    "def plot_hist(x, w, nm, units, fmt=\".2f\"):\n",
    "    q, v = calc_hist(x, w, fmt)\n",
    "    d = np.diff(q)\n",
    "    bins = np.linspace(q[1] - 3 * d[0], q[1] + 3 * d[1], 12)\n",
    "    \n",
    "    fig, ax = pl.subplots()\n",
    "    ax.hist(x, bins, weights=w, color=\"k\", histtype=\"step\", normed=True)\n",
    "    ax.axvline(q[1], color=\"k\")\n",
    "    ax.axvline(q[0], color=\"k\", linestyle=\"dashed\")\n",
    "    ax.axvline(q[2], color=\"k\", linestyle=\"dashed\")\n",
    "    if units is None:\n",
    "        ax.set_xlabel(\"${0}$\".format(nm))\n",
    "    else:\n",
    "        ax.set_xlabel(\"${0}\\,[{1}]$\".format(nm, units))\n",
    "    ax.set_yticklabels([])\n",
    "    if units is not None:\n",
    "        v = \"$\" + nm + \" = \" + v + \" \\, {0}$\".format(units)\n",
    "    else:\n",
    "        v = \"$\" + nm + \" = \" + v + \"$\"\n",
    "    ax.set_title(v)"
   ]
  },
  {
   "cell_type": "code",
   "execution_count": 148,
   "metadata": {
    "collapsed": false
   },
   "outputs": [],
   "source": [
    "d = \"starmodels_inflated\"\n",
    "\n",
    "def process_row(epic):\n",
    "    if epic == 201912552:\n",
    "        mu = np.array([0.394, 0.413])\n",
    "        cov = np.diag([0.038, 0.043])**2\n",
    "        te = 3503 + 60 * np.random.randn(1e5)\n",
    "    else:    \n",
    "        fn = \"stlr/{1}/{0}.h5\".format(int(epic), d)\n",
    "        if not os.path.exists(fn):\n",
    "            try:\n",
    "                os.makedirs(\"stlr/\" + d)\n",
    "            except os.error:\n",
    "                pass\n",
    "            check_call(\"wget -O {0} http://www.astro.princeton.edu/~tdm/k2/{2}/{1}.h5\"\n",
    "                       .format(fn, int(epic), d), shell=True)\n",
    "\n",
    "        # Load the stellar samples and build the Gaussian model.\n",
    "        star = pd.read_hdf(fn, \"samples\")\n",
    "        X = np.array(star[[\"radius\", \"mass\"]])\n",
    "        mu = np.mean(X, axis=0)\n",
    "        cov = np.cov(X, rowvar=0)\n",
    "        print(mu, np.sqrt(np.diag(cov)))\n",
    "\n",
    "        te = np.array(star.Teff)\n",
    "    \n",
    "    # KDE shite.\n",
    "    # kde = gaussian_kde(np.array(star[[\"radius\", \"mass\"]]).T)\n",
    "    # Plot the KDE model.\n",
    "    #     x = np.linspace(star.radius.min(), star.radius.max(), 75)\n",
    "    #     y = np.linspace(star.mass.min(), star.mass.max(), 77)\n",
    "    #     X, Y = np.meshgrid(x, y, indexing=\"ij\")\n",
    "    #     positions = np.vstack([X.ravel(), Y.ravel()]) \n",
    "    #     Z = kde(positions).reshape((len(x), len(y)))\n",
    "    #     pl.pcolor(X, Y, Z, cmap=\"gray_r\")\n",
    "    #     pl.plot(star.radius, star.mass, \".r\", alpha=0.01)\n",
    "\n",
    "    # Load the samples and convert them to a DataFrame.\n",
    "    fn = \"../ketu/char_old/{0}/chain.h5\".format(int(epic))\n",
    "    with h5py.File(fn, \"r\") as f:\n",
    "        s0 = f[\"chain\"][::5, :, :]\n",
    "    cols = [\"ln_R_star\", \"ln_M_star\", \"q_1\", \"q_2\"]\n",
    "    i = 1\n",
    "    while len(cols) < s0.shape[-1]:\n",
    "        cols += [k + \"_{0}\".format(i) for k in\n",
    "                 (\"ln_R_p\", \"ln_P\", \"t_0\", \"b\", \"sqrt_e_sin_omega\", \"sqrt_e_cos_omega\")]\n",
    "        i += 1\n",
    "    nplanets = i - 1\n",
    "    dtype = [(k, np.float64) for k in cols]\n",
    "    samples = pd.DataFrame.from_items(zip(cols, s0.reshape((-1, s0.shape[-1])).T))\n",
    "    \n",
    "    # Supplement the samples with Teff measurements drawn from the stellar properties.\n",
    "    inds = np.random.randint(len(te), size=len(samples))\n",
    "    samples[\"teff\"] = te[inds]\n",
    "    \n",
    "    r = (np.exp(np.array(samples[[\"ln_R_star\", \"ln_M_star\"]])) - mu).T\n",
    "    lnw = -0.5 * np.sum(np.linalg.solve(cov, r) * r, axis=0)\n",
    "    \n",
    "    # lnw = np.log(kde(np.exp(np.array(samples[[\"ln_R_star\", \"ln_M_star\"]])).T))\n",
    "    \n",
    "    # Dartmouth model.\n",
    "    #     # Compute probability under the measured stellar parameters.\n",
    "    #     lnw = ((np.exp(samples.ln_R_star) - row.Rad) / row.e_Rad) ** 2\n",
    "    #     lnw += ((np.exp(samples.ln_M_star) - row.M) / row.e_M) ** 2\n",
    "    #     lnw *= -0.5\n",
    "    \n",
    "    # Inculde the interim prior that was 1/R and 1/M.\n",
    "    lnw += samples.ln_R_star + samples.ln_M_star\n",
    "    \n",
    "    # Use this to compute the weights for the samples.\n",
    "    samples[\"weights\"] = np.exp(lnw + lnw.max())\n",
    "    \n",
    "    rows = []\n",
    "    for i in range(nplanets):\n",
    "        r = [\"{0}\".format(int(epic)), \"{0}\".format(i+1)]\n",
    "        w = np.array(samples.weights)\n",
    "\n",
    "        # Plot the period measurement.\n",
    "        x = np.exp(np.array(samples[\"ln_P_{0}\".format(i+1)]))\n",
    "        _, v = calc_hist(x, w, \".4f\")\n",
    "        r.append(v)\n",
    "        # plot_hist(x, w, \"P_{{{0}}}\".format(i+1), \"\\mathrm{days}\", fmt=\".5f\")\n",
    "\n",
    "        # Plot the radius measurement.\n",
    "        x = np.exp(np.array(samples[\"ln_R_p_{0}\".format(i+1)])) / 0.009155\n",
    "        _, v = calc_hist(x, w, \".2f\")\n",
    "        r.append(v)\n",
    "        # plot_hist(x, w, \"R_{{p,{0}}}\".format(i+1), \"R_\\oplus\", fmt=\".2f\")\n",
    "        \n",
    "        # Plot the a/R_* measurement.\n",
    "        # Newton's constant in $R_\\odot^3 M_\\odot^{-1} {days}^{-2}$.\n",
    "        _G = 2945.4625385377644\n",
    "        lnp = samples[\"ln_P_{0}\".format(i+1)]\n",
    "        lnms = samples.ln_M_star\n",
    "        a = np.array(_G * np.exp(2*lnp+lnms)/(4*np.pi*np.pi)) ** (1./3)\n",
    "        \n",
    "        _, v = calc_hist(a * np.exp(-samples.ln_R_star), w, \".2f\")\n",
    "        r.append(v)\n",
    "        \n",
    "        _, v = calc_hist(a / 215.1, w, \".4f\")\n",
    "        r.append(v)\n",
    "        # plot_hist(a / 215.1, w, \"{{a}}_{{{0}}}\".format(i+1), \"\\mathrm{AU}\", fmt=\".4f\")\n",
    "        \n",
    "        # Teq\n",
    "        teq = samples.teff / np.sqrt(2. * a * np.exp(-samples.ln_R_star))\n",
    "        _, v = calc_hist(teq, w, \".0f\")\n",
    "        r.append(v)\n",
    "        # plot_hist(teq, w, \"{{T_\\mathrm{{eq}}}}_{{{0}}}\".format(i+1), \"\\mathrm{K}\", fmt=\".0f\")\n",
    "        \n",
    "        rows.append(\" & \".join(r) + \" \\\\\")\n",
    "    return rows"
   ]
  },
  {
   "cell_type": "code",
   "execution_count": 149,
   "metadata": {
    "collapsed": false
   },
   "outputs": [
    {
     "name": "stdout",
     "output_type": "stream",
     "text": [
      "$201912552$ & $1$ & $32.9412 \\pm {0.0031}$ & $2.29 \\pm {0.24}$ & $83.19 \\pm {9.11}$ & $0.1498 \\pm {0.0053}$ & $273 \\pm {15} $ \\\\\n"
     ]
    }
   ],
   "source": [
    "r = process_row(201912552)[0]\n",
    "print(\"$\" + r.replace(\" & \", \"$ & $\")[:-1] + r\"$ \\\\\")"
   ]
  },
  {
   "cell_type": "code",
   "execution_count": 150,
   "metadata": {
    "collapsed": false
   },
   "outputs": [
    {
     "name": "stdout",
     "output_type": "stream",
     "text": [
      "[ 0.60934138  0.63640491] [ 0.03164453  0.03901752]\n",
      "[ 0.63464109  0.66993953] [ 0.04760949  0.05276432]\n",
      "[ 1.02347429  1.045045  ] [ 0.10071951  0.0738505 ]\n",
      "[ 0.56410861  0.58465262] [ 0.04694068  0.0531474 ]\n",
      "[ 0.53666077  0.55706176] [ 0.04333041  0.04585901]\n",
      "[ 0.95124337  0.98319588] [ 0.10157357  0.07395347]\n",
      "[ 0.91110121  0.96510059] [ 0.0772032   0.06538347]\n",
      "[ 1.14899452  1.12139758] [ 0.16926021  0.11492552]\n",
      "[ 0.69898822  0.74594342] [ 0.05264971  0.0608577 ]\n",
      "[ 0.31529289  0.3193461 ] [ 0.07693887  0.08847471]\n",
      "[ 0.79198862  0.83070025] [ 0.14043124  0.07833761]\n",
      "[ 0.78437046  0.84338938] [ 0.06740698  0.06960368]\n",
      "[ 0.66628104  0.70490952] [ 0.03385958  0.04400451]\n",
      "[ 0.57840644  0.60281512] [ 0.04464628  0.05005785]\n",
      "[ 0.51012742  0.53097229] [ 0.07093905  0.07690906]\n",
      "[ 0.7637729  0.8212061] [ 0.05312153  0.05951604]\n",
      "[ 0.89218389  0.92929604] [ 0.14094443  0.07124389]\n",
      "[ 0.75884301  0.82117373] [ 0.07290014  0.08119595]\n",
      "[ 0.89810132  0.94927357] [ 0.08753707  0.07047404]\n",
      "[ 0.46758586  0.49003183] [ 0.05034217  0.05270374]\n",
      "[ 0.79100285  0.83814578] [ 0.0692586   0.06719697]\n",
      "[ 0.48187314  0.50265427] [ 0.05723863  0.05848893]\n",
      "[ 0.61198952  0.64680198] [ 0.05419772  0.06073726]\n",
      "[ 0.87001064  0.91027327] [ 0.06561514  0.06031342]\n",
      "[ 0.74541447  0.79487418] [ 0.05233677  0.05878577]\n",
      "[ 0.64209355  0.67731192] [ 0.04695348  0.05575085]\n",
      "[ 0.95935628  0.93676184] [ 0.27691722  0.11494432]\n",
      "[ 0.802983    0.83924547] [ 0.19460274  0.084841  ]\n",
      "[ 0.63399513  0.66801258] [ 0.03829108  0.04671421]\n",
      "[ 0.6840119   0.72567455] [ 0.05584574  0.06609632]\n"
     ]
    }
   ],
   "source": [
    "rows = [process_row(e) for e in candidates]"
   ]
  },
  {
   "cell_type": "code",
   "execution_count": 151,
   "metadata": {
    "collapsed": false
   },
   "outputs": [],
   "source": [
    "txt = r\"\"\"\n",
    "\\clearpage\n",
    "%\\LongTables\n",
    "\\begin{deluxetable*}{lcccccc}\n",
    "\\tablewidth{0pt}\n",
    "\\tabletypesize{\\scriptsize}\n",
    "\\tablecaption{Planet Properties for all Objects of Interest \\label{Tab:Planets}}\n",
    "\\tablehead{\n",
    "\\colhead{EPIC} &\n",
    "\\colhead{Cand. Num.} &\n",
    "\\colhead{Period (days)} &\n",
    "\\colhead{Radius ($R_\\oplus$)} &\n",
    "\\colhead{$a/R_\\star$} &\n",
    "\\colhead{$a$ (AU)} &\n",
    "\\colhead{$T_\\mathrm{eq}$ (K)}\n",
    "}\n",
    "\\startdata\n",
    "DATADATA\n",
    "\\enddata\n",
    "\\tablecomments{These values and uncertainties are given by the mean and\n",
    "standard deviation of MCMC posterior samplings.}\n",
    "\\tablenotetext{1}{Parameters inferred from spectroscopic observations.}\n",
    "\\end{deluxetable*}\n",
    "\"\"\".replace(\"DATADATA\", \"\\\\\\\\ \\n\".join([\"$\" + r.replace(\" & \", \"$ & $\")[:-1] + r\"$ \" for _ in rows for r in _]))"
   ]
  },
  {
   "cell_type": "code",
   "execution_count": 112,
   "metadata": {
    "collapsed": false
   },
   "outputs": [],
   "source": [
    "with open(\"table_planets.tex\", \"w\") as f:\n",
    "    f.write(txt)"
   ]
  },
  {
   "cell_type": "code",
   "execution_count": 153,
   "metadata": {
    "collapsed": false
   },
   "outputs": [
    {
     "name": "stdout",
     "output_type": "stream",
     "text": [
      "\n",
      "\\clearpage\n",
      "%\\LongTables\n",
      "\\begin{deluxetable*}{lcccccc}\n",
      "\\tablewidth{0pt}\n",
      "\\tabletypesize{\\scriptsize}\n",
      "\\tablecaption{Planet Properties for all Objects of Interest \\label{Tab:Planets}}\n",
      "\\tablehead{\n",
      "\\colhead{EPIC} &\n",
      "\\colhead{Cand. Num.} &\n",
      "\\colhead{Period (days)} &\n",
      "\\colhead{Radius ($R_\\oplus$)} &\n",
      "\\colhead{$a/R_\\star$} &\n",
      "\\colhead{$a$ (AU)} &\n",
      "\\colhead{$T_\\mathrm{eq}$ (K)}\n",
      "}\n",
      "\\startdata\n",
      "$201208431$ & $1$ & $10.0041 \\pm {0.0016}$ & $2.33 \\pm {0.23}$ & $27.61 \\pm {0.93}$ & $0.0782 \\pm {0.0016}$ & $563 \\pm {11} $ \\\\ \n",
      "$201257461$ & $1$ & $50.2519 \\pm {0.0076}$ & $2.25 \\pm {0.17}$ & $79.27 \\pm {4.86}$ & $0.2321 \\pm {0.0057}$ & $383 \\pm {12} $ \\\\ \n",
      "$201295312$ & $1$ & $5.6561 \\pm {0.0007}$ & $1.97 \\pm {0.24}$ & $13.36 \\pm {1.16}$ & $0.0630 \\pm {0.0015}$ & $1153 \\pm {51} $ \\\\ \n",
      "$201338508$ & $1$ & $10.9328 \\pm {0.0019}$ & $2.12 \\pm {0.26}$ & $30.63 \\pm {1.54}$ & $0.0808 \\pm {0.0023}$ & $528 \\pm {15} $ \\\\ \n",
      "$201338508$ & $2$ & $5.7350 \\pm {0.0006}$ & $2.06 \\pm {0.26}$ & $19.92 \\pm {1.00}$ & $0.0526 \\pm {0.0015}$ & $655 \\pm {19} $ \\\\ \n",
      "$201367065$ & $1$ & $10.0542 \\pm {0.0003}$ & $2.21 \\pm {0.22}$ & $29.98 \\pm {1.48}$ & $0.0752 \\pm {0.0019}$ & $509 \\pm {13} $ \\\\ \n",
      "$201367065$ & $2$ & $24.6465 \\pm {0.0013}$ & $1.62 \\pm {0.14}$ & $54.50 \\pm {2.70}$ & $0.1367 \\pm {0.0034}$ & $378 \\pm {10} $ \\\\ \n",
      "$201384232$ & $1$ & $30.9374 \\pm {0.0042}$ & $2.69 \\pm {0.31}$ & $43.85 \\pm {3.79}$ & $0.1916 \\pm {0.0048}$ & $618 \\pm {28} $ \\\\ \n",
      "$201393098$ & $1$ & $28.6812 \\pm {0.0125}$ & $2.36 \\pm {0.35}$ & $42.84 \\pm {3.07}$ & $0.1814 \\pm {0.0040}$ & $616 \\pm {23} $ \\\\ \n",
      "$201403446$ & $1$ & $19.1533 \\pm {0.0053}$ & $1.98 \\pm {0.34}$ & $27.28 \\pm {3.22}$ & $0.1459 \\pm {0.0048}$ & $863 \\pm {50} $ \\\\ \n",
      "$201445392$ & $1$ & $10.3526 \\pm {0.0011}$ & $2.78 \\pm {0.54}$ & $26.07 \\pm {1.34}$ & $0.0842 \\pm {0.0023}$ & $667 \\pm {18} $ \\\\ \n",
      "$201445392$ & $2$ & $5.0644 \\pm {0.0007}$ & $2.15 \\pm {0.30}$ & $16.18 \\pm {0.83}$ & $0.0523 \\pm {0.0014}$ & $847 \\pm {23} $ \\\\ \n",
      "$201465501$ & $1$ & $18.4486 \\pm {0.0014}$ & $2.16 \\pm {0.79}$ & $63.79 \\pm {9.87}$ & $0.0941 \\pm {0.0083}$ & $309 \\pm {22} $ \\\\ \n",
      "$201505350$ & $1$ & $11.9070 \\pm {0.0004}$ & $4.53 \\pm {0.66}$ & $25.79 \\pm {3.52}$ & $0.0963 \\pm {0.0028}$ & $758 \\pm {49} $ \\\\ \n",
      "$201505350$ & $2$ & $7.9193 \\pm {0.0001}$ & $6.52 \\pm {0.95}$ & $19.65 \\pm {2.68}$ & $0.0734 \\pm {0.0021}$ & $868 \\pm {56} $ \\\\ \n",
      "$201546283$ & $1$ & $6.7713 \\pm {0.0001}$ & $4.19 \\pm {0.38}$ & $18.13 \\pm {1.06}$ & $0.0662 \\pm {0.0017}$ & $879 \\pm {27} $ \\\\ \n",
      "$201549860$ & $1$ & $5.6082 \\pm {0.0005}$ & $2.11 \\pm {0.33}$ & $17.78 \\pm {0.58}$ & $0.0550 \\pm {0.0011}$ & $752 \\pm {14} $ \\\\ \n",
      "$201555883$ & $1$ & $5.7966 \\pm {0.0002}$ & $3.77 \\pm {0.42}$ & $19.95 \\pm {1.03}$ & $0.0533 \\pm {0.0015}$ & $698 \\pm {19} $ \\\\ \n",
      "$201565013$ & $1$ & $8.6381 \\pm {0.0002}$ & $12.18 \\pm {2.80}$ & $28.00 \\pm {2.54}$ & $0.0671 \\pm {0.0031}$ & $533 \\pm {30} $ \\\\ \n",
      "$201569483$ & $1$ & $5.7969 \\pm {0.0000}$ & $32.76 \\pm {3.81}$ & $16.75 \\pm {0.84}$ & $0.0591 \\pm {0.0014}$ & $884 \\pm {24} $ \\\\ \n",
      "$201577035$ & $1$ & $19.3062 \\pm {0.0014}$ & $3.75 \\pm {0.63}$ & $33.88 \\pm {4.82}$ & $0.1374 \\pm {0.0035}$ & $679 \\pm {47} $ \\\\ \n",
      "$201596316$ & $1$ & $39.8436 \\pm {0.0140}$ & $2.25 \\pm {0.33}$ & $60.48 \\pm {4.08}$ & $0.2144 \\pm {0.0071}$ & $478 \\pm {16} $ \\\\ \n",
      "$201613023$ & $1$ & $8.2819 \\pm {0.0006}$ & $2.04 \\pm {0.24}$ & $18.85 \\pm {1.59}$ & $0.0788 \\pm {0.0020}$ & $929 \\pm {40} $ \\\\ \n",
      "$201617985$ & $1$ & $7.2821 \\pm {0.0008}$ & $1.79 \\pm {0.52}$ & $26.85 \\pm {2.03}$ & $0.0579 \\pm {0.0021}$ & $503 \\pm {20} $ \\\\ \n",
      "$201629650$ & $1$ & $40.0491 \\pm {0.0213}$ & $2.10 \\pm {0.32}$ & $58.86 \\pm {4.04}$ & $0.2162 \\pm {0.0059}$ & $514 \\pm {18} $ \\\\ \n",
      "$201635569$ & $1$ & $8.3681 \\pm {0.0002}$ & $5.37 \\pm {0.83}$ & $28.64 \\pm {2.24}$ & $0.0643 \\pm {0.0024}$ & $508 \\pm {21} $ \\\\ \n",
      "$201649426$ & $1$ & $27.7705 \\pm {0.0001}$ & $31.01 \\pm {4.42}$ & $56.20 \\pm {3.40}$ & $0.1529 \\pm {0.0048}$ & $444 \\pm {14} $ \\\\ \n",
      "$201702477$ & $1$ & $40.7368 \\pm {0.0024}$ & $7.74 \\pm {0.76}$ & $55.56 \\pm {3.56}$ & $0.2247 \\pm {0.0049}$ & $528 \\pm {18} $ \\\\ \n",
      "$201736247$ & $1$ & $11.8104 \\pm {0.0017}$ & $2.85 \\pm {0.34}$ & $27.33 \\pm {1.42}$ & $0.0939 \\pm {0.0023}$ & $693 \\pm {20} $ \\\\ \n",
      "$201754305$ & $1$ & $19.0722 \\pm {0.0044}$ & $2.21 \\pm {0.47}$ & $41.27 \\pm {1.80}$ & $0.1225 \\pm {0.0031}$ & $520 \\pm {13} $ \\\\ \n",
      "$201754305$ & $2$ & $7.6205 \\pm {0.0011}$ & $2.03 \\pm {0.32}$ & $22.39 \\pm {0.98}$ & $0.0665 \\pm {0.0017}$ & $706 \\pm {18} $ \\\\ \n",
      "$201779067$ & $1$ & $27.2429 \\pm {0.0002}$ & $40.38 \\pm {5.43}$ & $29.75 \\pm {2.57}$ & $0.1809 \\pm {0.0043}$ & $781 \\pm {35} $ \\\\ \n",
      "$201828749$ & $1$ & $33.5098 \\pm {0.0023}$ & $2.77 \\pm {0.86}$ & $52.39 \\pm {12.88}$ & $0.1921 \\pm {0.0065}$ & $542 \\pm {58} $ \\\\ \n",
      "$201855371$ & $1$ & $17.9715 \\pm {0.0016}$ & $2.19 \\pm {0.20}$ & $39.94 \\pm {1.65}$ & $0.1173 \\pm {0.0029}$ & $480 \\pm {11} $ \\\\ \n",
      "$201912552$ & $1$ & $32.9412 \\pm {0.0031}$ & $2.29 \\pm {0.24}$ & $83.19 \\pm {9.11}$ & $0.1498 \\pm {0.0053}$ & $273 \\pm {15} $ \\\\ \n",
      "$201929294$ & $1$ & $5.0084 \\pm {0.0001}$ & $8.77 \\pm {0.70}$ & $16.11 \\pm {0.87}$ & $0.0516 \\pm {0.0015}$ & $844 \\pm {24} $ \n",
      "\\enddata\n",
      "\\tablecomments{These values and uncertainties are given by the mean and\n",
      "standard deviation of MCMC posterior samplings.}\n",
      "\\tablenotetext{1}{Parameters inferred from spectroscopic observations.}\n",
      "\\end{deluxetable*}\n",
      "\n"
     ]
    }
   ],
   "source": [
    "print(txt)"
   ]
  },
  {
   "cell_type": "code",
   "execution_count": null,
   "metadata": {
    "collapsed": false
   },
   "outputs": [],
   "source": []
  },
  {
   "cell_type": "code",
   "execution_count": null,
   "metadata": {
    "collapsed": true
   },
   "outputs": [],
   "source": []
  }
 ],
 "metadata": {
  "kernelspec": {
   "display_name": "Python 2",
   "language": "python",
   "name": "python2"
  },
  "language_info": {
   "codemirror_mode": {
    "name": "ipython",
    "version": 2
   },
   "file_extension": ".py",
   "mimetype": "text/x-python",
   "name": "python",
   "nbconvert_exporter": "python",
   "pygments_lexer": "ipython2",
   "version": "2.7.9"
  }
 },
 "nbformat": 4,
 "nbformat_minor": 0
}
