{
 "metadata": {
  "name": "",
  "signature": "sha256:42356963ca0b9e1ca94f80a685fdf275a6afbd08e7a07d50ad3a14d79bbba0bb"
 },
 "nbformat": 3,
 "nbformat_minor": 0,
 "worksheets": [
  {
   "cells": [
    {
     "cell_type": "code",
     "collapsed": false,
     "input": [
      "from __future__ import division, print_function\n",
      "\n",
      "%matplotlib inline\n",
      "%config InlineBackend.figure_format = \"retina\"\n",
      "\n",
      "from matplotlib import rcParams\n",
      "rcParams[\"savefig.dpi\"] = 100\n",
      "rcParams[\"font.size\"] = 20"
     ],
     "language": "python",
     "metadata": {},
     "outputs": [],
     "prompt_number": 9
    },
    {
     "cell_type": "code",
     "collapsed": false,
     "input": [
      "import os\n",
      "import h5py\n",
      "import triangle\n",
      "import numpy as np\n",
      "import pandas as pd\n",
      "import matplotlib.pyplot as pl\n",
      "from subprocess import check_call\n",
      "from scipy.stats import gaussian_kde "
     ],
     "language": "python",
     "metadata": {},
     "outputs": [],
     "prompt_number": 25
    },
    {
     "cell_type": "code",
     "collapsed": true,
     "input": [
      "stars = pd.read_csv(\"dartmouth_params.txt\", delim_whitespace=True, header=0, skiprows=1,\n",
      "                    names=[\"EPIC\", \"Teff\", \"e_Teff\", \"Rad\", \"e_Rad\", \"Dist\", \"e_Dist\",\n",
      "                           \"M\", \"e_M\", \"feh\", \"e_feh\", \"logg\", \"e_logg\"])"
     ],
     "language": "python",
     "metadata": {},
     "outputs": [],
     "prompt_number": 11
    },
    {
     "cell_type": "code",
     "collapsed": false,
     "input": [
      "# Download and construct KDE model.\n"
     ],
     "language": "python",
     "metadata": {},
     "outputs": []
    },
    {
     "cell_type": "code",
     "collapsed": false,
     "input": [
      "def calc_hist(x, w, fmt):\n",
      "    q = triangle.quantile(x, [0.16, 0.5, 0.84], weights=w)\n",
      "    d = np.diff(q)\n",
      "    v = (\"{{0:{0}}}_{{{{-{{1:{0}}}}}}}^{{{{+{{2:{0}}}}}}}\"\n",
      "         .format(fmt).format(q[1], d[0], d[1]))\n",
      "    return q, v\n",
      "\n",
      "def plot_hist(x, w, nm, units, fmt=\".2f\"):\n",
      "    q, v = calc_hist(x, w, fmt)\n",
      "    d = np.diff(q)\n",
      "    bins = np.linspace(q[1] - 3 * d[0], q[1] + 3 * d[1], 12)\n",
      "    \n",
      "    fig, ax = pl.subplots()\n",
      "    ax.hist(x, bins, weights=w, color=\"k\", histtype=\"step\", normed=True)\n",
      "    ax.axvline(q[1], color=\"k\")\n",
      "    ax.axvline(q[0], color=\"k\", linestyle=\"dashed\")\n",
      "    ax.axvline(q[2], color=\"k\", linestyle=\"dashed\")\n",
      "    if units is None:\n",
      "        ax.set_xlabel(\"${0}$\".format(nm))\n",
      "    else:\n",
      "        ax.set_xlabel(\"${0}\\,[{1}]$\".format(nm, units))\n",
      "    ax.set_yticklabels([])\n",
      "    if units is not None:\n",
      "        v = \"$\" + nm + \" = \" + v + \" \\, {{4}}$\".format(units)\n",
      "    else:\n",
      "        v = \"$\" + nm + \" = \" + v + \"$\"\n",
      "    ax.set_title(v)"
     ],
     "language": "python",
     "metadata": {},
     "outputs": [],
     "prompt_number": 82
    },
    {
     "cell_type": "code",
     "collapsed": false,
     "input": [
      "d = \"starmodels_inflated\"\n",
      "\n",
      "def process_row(row):\n",
      "    print(row.EPIC)\n",
      "    \n",
      "    fn = \"stlr/{1}/{0}.h5\".format(int(row.EPIC), d)\n",
      "    if not os.path.exists(fn):\n",
      "        try:\n",
      "            os.makedirs(\"stlr/\" + d)\n",
      "        except os.error:\n",
      "            pass\n",
      "        check_call(\"wget -O {0} http://www.astro.princeton.edu/~tdm/k2/{2}/{1}.h5\"\n",
      "                   .format(fn, int(row.EPIC), d), shell=True)\n",
      "\n",
      "    # Load the stellar samples and build the KDE model.\n",
      "    star = pd.read_hdf(fn, \"samples\").loc[::50]\n",
      "    kde = gaussian_kde(np.array(star[[\"radius\", \"mass\"]]).T)\n",
      "    \n",
      "    # Plot the KDE model.\n",
      "    #     x = np.linspace(star.radius.min(), star.radius.max(), 75)\n",
      "    #     y = np.linspace(star.mass.min(), star.mass.max(), 77)\n",
      "    #     X, Y = np.meshgrid(x, y, indexing=\"ij\")\n",
      "    #     positions = np.vstack([X.ravel(), Y.ravel()]) \n",
      "    #     Z = kde(positions).reshape((len(x), len(y)))\n",
      "    #     pl.pcolor(X, Y, Z, cmap=\"gray_r\")\n",
      "    #     pl.plot(star.radius, star.mass, \".r\", alpha=0.01)\n",
      "\n",
      "    # Load the samples and convert them to a DataFrame.\n",
      "    fn = \"../ketu/char/{0}/chain.h5\".format(int(row.EPIC))\n",
      "    with h5py.File(fn, \"r\") as f:\n",
      "        s0 = f[\"chain\"][::5, :, :]\n",
      "    cols = [\"ln_R_star\", \"ln_M_star\", \"q_1\", \"q_2\"]\n",
      "    i = 1\n",
      "    while len(cols) < s0.shape[-1]:\n",
      "        cols += [k + \"_{0}\".format(i) for k in\n",
      "                 (\"ln_R_p\", \"ln_P\", \"t_0\", \"b\", \"sqrt_e_sin_omega\", \"sqrt_e_cos_omega\")]\n",
      "        i += 1\n",
      "    nplanets = i - 1\n",
      "    dtype = [(k, np.float64) for k in cols]\n",
      "    samples = pd.DataFrame.from_items(zip(cols, s0.reshape((-1, s0.shape[-1])).T))\n",
      "    \n",
      "    # Supplement the samples with Teff measurements drawn from the stellar properties.\n",
      "    te = np.array(star.Teff)\n",
      "    inds = np.random.randint(len(te), size=len(samples))\n",
      "    samples[\"teff\"] = te[inds]\n",
      "    lnw = np.log(kde(np.exp(np.array(samples[[\"ln_R_star\", \"ln_M_star\"]])).T))\n",
      "    \n",
      "    # Dartmouth model.\n",
      "    #     # Compute probability under the measured stellar parameters.\n",
      "    #     lnw = ((np.exp(samples.ln_R_star) - row.Rad) / row.e_Rad) ** 2\n",
      "    #     lnw += ((np.exp(samples.ln_M_star) - row.M) / row.e_M) ** 2\n",
      "    #     lnw *= -0.5\n",
      "    \n",
      "    # Inculde the interim prior that was 1/R and 1/M.\n",
      "    lnw += samples.ln_R_star + samples.ln_M_star\n",
      "    \n",
      "    # Use this to compute the weights for the samples.\n",
      "    samples[\"weights\"] = np.exp(lnw + lnw.max())\n",
      "    \n",
      "    rows = []\n",
      "    for i in range(nplanets):\n",
      "        r = [\"{0}\".format(int(row.EPIC)), \"{0}\".format(i+1)]\n",
      "        w = np.array(samples.weights)\n",
      "\n",
      "        # Plot the period measurement.\n",
      "        x = np.exp(np.array(samples[\"ln_P_{0}\".format(i+1)]))\n",
      "        _, v = calc_hist(x, w, \".4f\")\n",
      "        r.append(v)\n",
      "        # plot_hist(x, w, \"P_{{{0}}}\".format(i+1), \"\\mathrm{days}\", fmt=\".5f\")\n",
      "\n",
      "        # Plot the radius measurement.\n",
      "        x = np.exp(np.array(samples[\"ln_R_p_{0}\".format(i+1)])) / 0.009155\n",
      "        _, v = calc_hist(x, w, \".2f\")\n",
      "        r.append(v)\n",
      "        # plot_hist(x, w, \"R_{{p,{0}}}\".format(i+1), \"R_\\oplus\", fmt=\".2f\")\n",
      "        \n",
      "        # Plot the a/R_* measurement.\n",
      "        # Newton's constant in $R_\\odot^3 M_\\odot^{-1} {days}^{-2}$.\n",
      "        _G = 2945.4625385377644\n",
      "        lnp = samples[\"ln_P_{0}\".format(i+1)]\n",
      "        lnms = samples.ln_M_star\n",
      "        a = np.array(_G * np.exp(2*lnp+lnms)/(4*np.pi*np.pi)) ** (1./3)\n",
      "        \n",
      "        _, v = calc_hist(a * np.exp(-samples.ln_R_star), w, \".4f\")\n",
      "        r.append(v)\n",
      "        \n",
      "        _, v = calc_hist(a / 215.1, w, \".4f\")\n",
      "        r.append(v)\n",
      "        # plot_hist(a / 215.1, w, \"{{a}}_{{{0}}}\".format(i+1), \"\\mathrm{AU}\", fmt=\".4f\")\n",
      "        \n",
      "        # Teq\n",
      "        teq = samples.teff / np.sqrt(2. * a * np.exp(-samples.ln_R_star))\n",
      "        _, v = calc_hist(teq, w, \".0f\")\n",
      "        r.append(v)\n",
      "        # plot_hist(teq, w, \"{{T_\\mathrm{{eq}}}}_{{{0}}}\".format(i+1), \"\\mathrm{K}\", fmt=\".0f\")\n",
      "        \n",
      "        rows.append(\" & \".join(r) + \" \\\\\")\n",
      "    return rows"
     ],
     "language": "python",
     "metadata": {},
     "outputs": [],
     "prompt_number": 90
    },
    {
     "cell_type": "code",
     "collapsed": false,
     "input": [
      "rows = [process_row(row) for _, row in stars.iterrows()]"
     ],
     "language": "python",
     "metadata": {},
     "outputs": [
      {
       "output_type": "stream",
       "stream": "stdout",
       "text": [
        "201257461.0\n",
        "201295312.0"
       ]
      },
      {
       "output_type": "stream",
       "stream": "stdout",
       "text": [
        "\n",
        "201338508.0"
       ]
      },
      {
       "output_type": "stream",
       "stream": "stdout",
       "text": [
        "\n",
        "201367065.0"
       ]
      },
      {
       "output_type": "stream",
       "stream": "stdout",
       "text": [
        "\n",
        "201384232.0"
       ]
      },
      {
       "output_type": "stream",
       "stream": "stdout",
       "text": [
        "\n",
        "201393098.0"
       ]
      },
      {
       "output_type": "stream",
       "stream": "stdout",
       "text": [
        "\n",
        "201403446.0"
       ]
      },
      {
       "output_type": "stream",
       "stream": "stdout",
       "text": [
        "\n",
        "201445392.0"
       ]
      },
      {
       "output_type": "stream",
       "stream": "stdout",
       "text": [
        "\n",
        "201465501.0"
       ]
      },
      {
       "output_type": "stream",
       "stream": "stdout",
       "text": [
        "\n",
        "201505350.0"
       ]
      },
      {
       "output_type": "stream",
       "stream": "stdout",
       "text": [
        "\n",
        "201546283.0"
       ]
      },
      {
       "output_type": "stream",
       "stream": "stdout",
       "text": [
        "\n",
        "201549860.0"
       ]
      },
      {
       "output_type": "stream",
       "stream": "stdout",
       "text": [
        "\n",
        "201555883.0"
       ]
      },
      {
       "output_type": "stream",
       "stream": "stdout",
       "text": [
        "\n",
        "201565013.0"
       ]
      },
      {
       "output_type": "stream",
       "stream": "stdout",
       "text": [
        "\n",
        "201569483.0"
       ]
      }
     ]
    },
    {
     "cell_type": "code",
     "collapsed": false,
     "input": [
      "txt = r\"\"\"\n",
      "\\clearpage\n",
      "%\\LongTables\n",
      "\\begin{deluxetable*}{lcccccc}\n",
      "\\tablewidth{0pt}\n",
      "\\tabletypesize{\\scriptsize}\n",
      "\\tablecaption{Planet Properties for all Objects of Interest \\label{Tab:Planets}}\n",
      "\\tablehead{\n",
      "\\colhead{EPIC} &\n",
      "\\colhead{Cand. Num.} &\n",
      "\\colhead{Period (days)} &\n",
      "\\colhead{Radius ($R_\\oplus$)} &\n",
      "\\colhead{$a/R_\\star$} &\n",
      "\\colhead{$a$ (AU)} &\n",
      "\\colhead{$T_\\mathrm{eq}$ (K)}\n",
      "}\n",
      "\\startdata\n",
      "DATADATA\n",
      "\\enddata\n",
      "\\tablecomments{blurgh.}\n",
      "\\end{deluxetable*}\n",
      "\"\"\".replace(\"DATADATA\", \"\\\\\\n\".join([\"$\" + r.replace(\" & \", \"$ & $\")[:-1] + \" for _ in rows for r in _]))"
     ],
     "language": "python",
     "metadata": {},
     "outputs": [],
     "prompt_number": 107
    },
    {
     "cell_type": "code",
     "collapsed": false,
     "input": [
      "with open(\"table_planets.tex\", \"w\") as f:\n",
      "    f.write(txt)"
     ],
     "language": "python",
     "metadata": {},
     "outputs": [],
     "prompt_number": 110
    },
    {
     "cell_type": "code",
     "collapsed": false,
     "input": [],
     "language": "python",
     "metadata": {},
     "outputs": []
    },
    {
     "cell_type": "code",
     "collapsed": false,
     "input": [],
     "language": "python",
     "metadata": {},
     "outputs": []
    },
    {
     "cell_type": "code",
     "collapsed": true,
     "input": [],
     "language": "python",
     "metadata": {},
     "outputs": []
    }
   ],
   "metadata": {}
  }
 ]
}