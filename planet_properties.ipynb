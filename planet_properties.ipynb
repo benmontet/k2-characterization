{
 "cells": [
  {
   "cell_type": "code",
   "execution_count": 1,
   "metadata": {
    "collapsed": false
   },
   "outputs": [],
   "source": [
    "from __future__ import division, print_function\n",
    "\n",
    "%matplotlib inline\n",
    "%config InlineBackend.figure_format = \"retina\"\n",
    "\n",
    "from matplotlib import rcParams\n",
    "rcParams[\"savefig.dpi\"] = 100\n",
    "rcParams[\"font.size\"] = 20"
   ]
  },
  {
   "cell_type": "code",
   "execution_count": 2,
   "metadata": {
    "collapsed": false
   },
   "outputs": [
    {
     "name": "stderr",
     "output_type": "stream",
     "text": [
      "/home/dfm/anaconda/lib/python2.7/site-packages/astropy/config/configuration.py:682: ConfigurationMissingWarning: Configuration defaults will be used due to OSError:Could not find unix home directory to search for astropy config dir on None\n",
      "  warn(ConfigurationMissingWarning(msg))\n"
     ]
    }
   ],
   "source": [
    "import os\n",
    "import ketu\n",
    "import h5py\n",
    "import fitsio\n",
    "import transit\n",
    "import triangle\n",
    "import numpy as np\n",
    "import pandas as pd\n",
    "import matplotlib.pyplot as pl\n",
    "from subprocess import check_call\n",
    "from scipy.stats import gaussian_kde "
   ]
  },
  {
   "cell_type": "code",
   "execution_count": 3,
   "metadata": {
    "collapsed": false
   },
   "outputs": [],
   "source": [
    "candidates = np.array(open(\"candidates.txt\", \"r\").readlines(), dtype=int)"
   ]
  },
  {
   "cell_type": "code",
   "execution_count": 4,
   "metadata": {
    "collapsed": false
   },
   "outputs": [
    {
     "data": {
      "text/plain": [
       "array([201208431, 201257461, 201295312, 201338508, 201367065, 201384232,\n",
       "       201393098, 201403446, 201445392, 201465501, 201505350, 201546283,\n",
       "       201549860, 201555883, 201565013, 201569483, 201577035, 201596316,\n",
       "       201613023, 201617985, 201629650, 201635569, 201649426, 201702477,\n",
       "       201736247, 201754305, 201779067, 201828749, 201855371, 201912552,\n",
       "       201929294])"
      ]
     },
     "execution_count": 4,
     "metadata": {},
     "output_type": "execute_result"
    }
   ],
   "source": [
    "candidates"
   ]
  },
  {
   "cell_type": "code",
   "execution_count": 5,
   "metadata": {
    "collapsed": false
   },
   "outputs": [],
   "source": [
    "def calc_hist(x, w, fmt):\n",
    "    q = triangle.quantile(x, [0.16, 0.5, 0.84], weights=w)\n",
    "    mu = np.sum(x * w) / np.sum(w)\n",
    "    std = np.sqrt(np.sum((x - mu)**2 * w) / np.sum(w))\n",
    "    v = \"{{0:{0}}} \\pm {{{{{{1:{0}}}}}}}\".format(fmt).format(mu, std)\n",
    "#     d = np.diff(q)\n",
    "#     v = (\"{{0:{0}}}_{{{{-{{1:{0}}}}}}}^{{{{+{{2:{0}}}}}}}\"\n",
    "#          .format(fmt).format(q[1], d[0], d[1]))\n",
    "    return q, v\n",
    "\n",
    "def plot_hist(x, w, nm, units, fmt=\".2f\"):\n",
    "    q, v = calc_hist(x, w, fmt)\n",
    "    d = np.diff(q)\n",
    "    bins = np.linspace(q[1] - 3 * d[0], q[1] + 3 * d[1], 12)\n",
    "    \n",
    "    fig, ax = pl.subplots()\n",
    "    ax.hist(x, bins, weights=w, color=\"k\", histtype=\"step\", normed=True)\n",
    "    ax.axvline(q[1], color=\"k\")\n",
    "    ax.axvline(q[0], color=\"k\", linestyle=\"dashed\")\n",
    "    ax.axvline(q[2], color=\"k\", linestyle=\"dashed\")\n",
    "    if units is None:\n",
    "        ax.set_xlabel(\"${0}$\".format(nm))\n",
    "    else:\n",
    "        ax.set_xlabel(\"${0}\\,[{1}]$\".format(nm, units))\n",
    "    ax.set_yticklabels([])\n",
    "    if units is not None:\n",
    "        v = \"$\" + nm + \" = \" + v + \" \\, {0}$\".format(units)\n",
    "    else:\n",
    "        v = \"$\" + nm + \" = \" + v + \"$\"\n",
    "    ax.set_title(v)"
   ]
  },
  {
   "cell_type": "code",
   "execution_count": 6,
   "metadata": {
    "collapsed": false
   },
   "outputs": [],
   "source": [
    "d = \"starmodels_inflated\"\n",
    "\n",
    "def process_row(epic):\n",
    "    if epic == 201912552:\n",
    "        mu = np.array([0.394, 0.413])\n",
    "        cov = np.diag([0.038, 0.043])**2\n",
    "        te = 3503 + 60 * np.random.randn(1e5)\n",
    "    else:    \n",
    "        fn = \"stlr/{1}/{0}.h5\".format(int(epic), d)\n",
    "        if not os.path.exists(fn):\n",
    "            try:\n",
    "                os.makedirs(\"stlr/\" + d)\n",
    "            except os.error:\n",
    "                pass\n",
    "            check_call(\"wget -O {0} http://www.astro.princeton.edu/~tdm/k2/{2}/{1}.h5\"\n",
    "                       .format(fn, int(epic), d), shell=True)\n",
    "\n",
    "        # Load the stellar samples and build the Gaussian model.\n",
    "        star = pd.read_hdf(fn, \"samples\")\n",
    "        X = np.array(star[[\"radius\", \"mass\"]])\n",
    "        mu = np.mean(X, axis=0)\n",
    "        cov = np.cov(X, rowvar=0)\n",
    "        print(mu, np.sqrt(np.diag(cov)))\n",
    "\n",
    "        te = np.array(star.Teff)\n",
    "    \n",
    "    # KDE shite.\n",
    "    # kde = gaussian_kde(np.array(star[[\"radius\", \"mass\"]]).T)\n",
    "    # Plot the KDE model.\n",
    "    #     x = np.linspace(star.radius.min(), star.radius.max(), 75)\n",
    "    #     y = np.linspace(star.mass.min(), star.mass.max(), 77)\n",
    "    #     X, Y = np.meshgrid(x, y, indexing=\"ij\")\n",
    "    #     positions = np.vstack([X.ravel(), Y.ravel()]) \n",
    "    #     Z = kde(positions).reshape((len(x), len(y)))\n",
    "    #     pl.pcolor(X, Y, Z, cmap=\"gray_r\")\n",
    "    #     pl.plot(star.radius, star.mass, \".r\", alpha=0.01)\n",
    "\n",
    "    # Load the samples and convert them to a DataFrame.\n",
    "    fn = \"../ketu/char_old/{0}/chain.h5\".format(int(epic))\n",
    "    with h5py.File(fn, \"r\") as f:\n",
    "        s0 = f[\"chain\"][::5, :, :]\n",
    "    cols = [\"ln_R_star\", \"ln_M_star\", \"q_1\", \"q_2\"]\n",
    "    i = 1\n",
    "    while len(cols) < s0.shape[-1]:\n",
    "        cols += [k + \"_{0}\".format(i) for k in\n",
    "                 (\"ln_R_p\", \"ln_P\", \"t_0\", \"b\", \"sqrt_e_sin_omega\", \"sqrt_e_cos_omega\")]\n",
    "        i += 1\n",
    "    nplanets = i - 1\n",
    "    dtype = [(k, np.float64) for k in cols]\n",
    "    samples = pd.DataFrame.from_items(zip(cols, s0.reshape((-1, s0.shape[-1])).T))\n",
    "    \n",
    "    # Supplement the samples with Teff measurements drawn from the stellar properties.\n",
    "    inds = np.random.randint(len(te), size=len(samples))\n",
    "    samples[\"teff\"] = te[inds]\n",
    "    \n",
    "    r = (np.exp(np.array(samples[[\"ln_R_star\", \"ln_M_star\"]])) - mu).T\n",
    "    lnw = -0.5 * np.sum(np.linalg.solve(cov, r) * r, axis=0)\n",
    "    \n",
    "    # lnw = np.log(kde(np.exp(np.array(samples[[\"ln_R_star\", \"ln_M_star\"]])).T))\n",
    "    \n",
    "    # Dartmouth model.\n",
    "    #     # Compute probability under the measured stellar parameters.\n",
    "    #     lnw = ((np.exp(samples.ln_R_star) - row.Rad) / row.e_Rad) ** 2\n",
    "    #     lnw += ((np.exp(samples.ln_M_star) - row.M) / row.e_M) ** 2\n",
    "    #     lnw *= -0.5\n",
    "    \n",
    "    # Inculde the interim prior that was 1/R and 1/M.\n",
    "    lnw += samples.ln_R_star + samples.ln_M_star\n",
    "    \n",
    "    # Use this to compute the weights for the samples.\n",
    "    samples[\"weights\"] = np.exp(lnw + lnw.max())\n",
    "    \n",
    "    rows = []\n",
    "    for i in range(nplanets):\n",
    "        r = [\"{0}\".format(int(epic)), \"{0}\".format(i+1)]\n",
    "        w = np.array(samples.weights)\n",
    "\n",
    "        # Plot the period measurement.\n",
    "        x = np.exp(np.array(samples[\"ln_P_{0}\".format(i+1)]))\n",
    "        _, v = calc_hist(x, w, \".4f\")\n",
    "        r.append(v)\n",
    "        # plot_hist(x, w, \"P_{{{0}}}\".format(i+1), \"\\mathrm{days}\", fmt=\".5f\")\n",
    "\n",
    "        # Plot the radius measurement.\n",
    "        x = np.exp(np.array(samples[\"ln_R_p_{0}\".format(i+1)])) / 0.009155\n",
    "        _, v = calc_hist(x, w, \".2f\")\n",
    "        r.append(v)\n",
    "        # plot_hist(x, w, \"R_{{p,{0}}}\".format(i+1), \"R_\\oplus\", fmt=\".2f\")\n",
    "        \n",
    "        # Plot the a/R_* measurement.\n",
    "        # Newton's constant in $R_\\odot^3 M_\\odot^{-1} {days}^{-2}$.\n",
    "        _G = 2945.4625385377644\n",
    "        lnp = samples[\"ln_P_{0}\".format(i+1)]\n",
    "        lnms = samples.ln_M_star\n",
    "        a = np.array(_G * np.exp(2*lnp+lnms)/(4*np.pi*np.pi)) ** (1./3)\n",
    "        \n",
    "        _, v = calc_hist(a * np.exp(-samples.ln_R_star), w, \".2f\")\n",
    "        r.append(v)\n",
    "        \n",
    "        _, v = calc_hist(a / 215.1, w, \".4f\")\n",
    "        r.append(v)\n",
    "        # plot_hist(a / 215.1, w, \"{{a}}_{{{0}}}\".format(i+1), \"\\mathrm{AU}\", fmt=\".4f\")\n",
    "        \n",
    "        # Teq\n",
    "        teq = samples.teff / np.sqrt(2. * a * np.exp(-samples.ln_R_star))\n",
    "        _, v = calc_hist(teq, w, \".0f\")\n",
    "        r.append(v)\n",
    "        # plot_hist(teq, w, \"{{T_\\mathrm{{eq}}}}_{{{0}}}\".format(i+1), \"\\mathrm{K}\", fmt=\".0f\")\n",
    "        \n",
    "        rows.append(\" & \".join(r) + \" \\\\\")\n",
    "    return rows"
   ]
  },
  {
   "cell_type": "code",
   "execution_count": 7,
   "metadata": {
    "collapsed": false
   },
   "outputs": [],
   "source": [
    "NSAMPLES = 50\n",
    "\n",
    "def process_row_2(epic):\n",
    "    # Load the samples and convert them to a DataFrame.\n",
    "    fn = \"../ketu/char/{0}/chain.h5\".format(int(epic))\n",
    "    if not os.path.exists(fn):\n",
    "        print(epic, \"failed\")\n",
    "        return\n",
    "    with h5py.File(fn, \"r\") as f:\n",
    "        s0 = f[\"chain\"][...]\n",
    "    cols = [\"ln_R_star\", \"ln_M_star\", \"ln_Teff\", \"q_1\", \"q_2\"]\n",
    "    i = 1\n",
    "    while len(cols) < s0.shape[-1]:\n",
    "        cols += [k + \"_{0}\".format(i) for k in\n",
    "                 (\"ln_R_p\", \"ln_P\", \"t_0\", \"b\", \"sqrt_e_sin_omega\", \"sqrt_e_cos_omega\")]\n",
    "        i += 1\n",
    "    nplanets = i - 1\n",
    "    dtype = [(k, np.float64) for k in cols]\n",
    "    samples = pd.DataFrame.from_items(zip(cols, s0.reshape((-1, s0.shape[-1])).T))\n",
    "    \n",
    "    rows = []\n",
    "    for i in range(nplanets):\n",
    "        r = [\"{0}.{1:02d}\".format(int(epic), i+1)]\n",
    "        w = np.ones(len(samples))\n",
    "\n",
    "        # Plot the period measurement.\n",
    "        x = np.exp(np.array(samples[\"ln_P_{0}\".format(i+1)]))\n",
    "        _, v = calc_hist(x, w, \".5f\")\n",
    "        r.append(v)\n",
    "        # plot_hist(x, w, \"P_{{{0}}}\".format(i+1), \"\\mathrm{days}\", fmt=\".5f\")\n",
    "        \n",
    "        # Epoch measurement.\n",
    "        x = np.array(samples[\"t_0_{0}\".format(i+1)])\n",
    "        _, v = calc_hist(x, w, \".4f\")\n",
    "        r.append(v)\n",
    "\n",
    "        # Plot the radius measurement.\n",
    "        x = np.exp(np.array(samples[\"ln_R_p_{0}\".format(i+1)])) / 0.009155\n",
    "        _, v = calc_hist(x, w, \".2f\")\n",
    "        r.append(v)\n",
    "        # plot_hist(x, w, \"R_{{p,{0}}}\".format(i+1), \"R_\\oplus\", fmt=\".2f\")\n",
    "        \n",
    "        # Plot the a/R_* measurement.\n",
    "        # Newton's constant in $R_\\odot^3 M_\\odot^{-1} {days}^{-2}$.\n",
    "        _G = 2945.4625385377644\n",
    "        lnp = samples[\"ln_P_{0}\".format(i+1)]\n",
    "        lnms = samples.ln_M_star\n",
    "        a = np.array(_G * np.exp(2*lnp+lnms)/(4*np.pi*np.pi)) ** (1./3)\n",
    "        \n",
    "        _, v = calc_hist(a * np.exp(-samples.ln_R_star), w, \".2f\")\n",
    "        r.append(v)\n",
    "        \n",
    "        _, v = calc_hist(a / 215.1, w, \".4f\")\n",
    "        r.append(v)\n",
    "        # plot_hist(a / 215.1, w, \"{{a}}_{{{0}}}\".format(i+1), \"\\mathrm{AU}\", fmt=\".4f\")\n",
    "        \n",
    "        # Teq\n",
    "        teq = np.exp(samples.ln_Teff) / np.sqrt(2. * a * np.exp(-samples.ln_R_star))\n",
    "        _, v = calc_hist(teq, w, \".0f\")\n",
    "        r.append(v)\n",
    "        # plot_hist(teq, w, \"{{T_\\mathrm{{eq}}}}_{{{0}}}\".format(i+1), \"\\mathrm{K}\", fmt=\".0f\")\n",
    "        \n",
    "        rows.append(\" & \".join(r) + \" \\\\\")\n",
    "        continue\n",
    "\n",
    "        # Save the de-trended light curve and model.\n",
    "        pipe = ketu.k2.Data(cache=False)\n",
    "        pipe = ketu.k2.Likelihood(pipe, cache=False)\n",
    "        datadir = \"/export/bbq2/dfm/k2/web\"\n",
    "        epicid = str(epic)\n",
    "        q = dict(\n",
    "            light_curve_file=os.path.join(datadir,\n",
    "                                          \"lightcurves/c1/{0}00000/{1}000/ktwo{2}-c01_lpd-lc.fits\"\n",
    "                                          .format(epicid[:4], epicid[4:6], epicid)),\n",
    "            basis_file=\"/export/bbq2/dfm/k2/web/elcs/c1.h5\",\n",
    "            catalog_file=os.path.join(datadir, \"catalogs/epic.h5\"),\n",
    "            nbasis=150,\n",
    "            initial_time=1975.,\n",
    "        )\n",
    "        r = pipe.query(**q)\n",
    "        lc = r.model_light_curves[0]\n",
    "        \n",
    "        # Build the sample results files.\n",
    "        t = np.linspace(-4, 4, 5000)\n",
    "        y = np.empty((NSAMPLES, len(t)))\n",
    "        corr_flux = np.empty((NSAMPLES, len(lc.time)))\n",
    "\n",
    "        for k in range(NSAMPLES):\n",
    "            ind = np.random.randint(len(samples))\n",
    "            samp = samples.iloc[k]\n",
    "            period = np.exp(samp[\"ln_P_{0}\".format(i+1)])\n",
    "            t0 = samp[\"t_0_{0}\".format(i+1)]\n",
    "            rp = np.exp(samp[\"ln_R_p_{0}\".format(i+1)])\n",
    "            b = samp[\"b_{0}\".format(i+1)]\n",
    "            sesn = samp[\"sqrt_e_sin_omega_{0}\".format(i+1)]\n",
    "            secs = samp[\"sqrt_e_cos_omega_{0}\".format(i+1)]\n",
    "            e = sesn**2 + secs**2\n",
    "            pomega = np.arctan2(sesn, secs)\n",
    "\n",
    "            star = transit.Central(radius=np.exp(samp.ln_R_star),\n",
    "                                   mass=np.exp(samp.ln_M_star))\n",
    "            system = transit.System(star)\n",
    "            system.add_body(transit.Body(r=rp, period=period, t0=t0, b=b, e=e, pomega=pomega))\n",
    "\n",
    "            # Compute prediction.\n",
    "            y[k] = (system.light_curve(t + t0, texp=lc.texp) - 1.0) * 1e3\n",
    "\n",
    "            # Add the other planets in.\n",
    "            for j in range(nplanets):\n",
    "                if i == j:\n",
    "                    continue\n",
    "                period2 = np.exp(samp[\"ln_P_{0}\".format(j+1)])\n",
    "                t02 = samp[\"t_0_{0}\".format(j+1)]\n",
    "                rp = np.exp(samp[\"ln_R_p_{0}\".format(j+1)])\n",
    "                b = samp[\"b_{0}\".format(j+1)]\n",
    "                sesn = samp[\"sqrt_e_sin_omega_{0}\".format(j+1)]\n",
    "                secs = samp[\"sqrt_e_cos_omega_{0}\".format(j+1)]\n",
    "                e = sesn**2 + secs**2\n",
    "                pomega = np.arctan2(sesn, secs)\n",
    "\n",
    "                system.add_body(transit.Body(r=rp, period=period2, t0=t02, b=b, e=e, pomega=pomega))\n",
    "\n",
    "            # Remove the prediction.\n",
    "            resid = lc.flux - (system.light_curve(lc.time, texp=lc.texp) - 1.0) * 1e3\n",
    "            corr_flux[k] = lc.flux - lc.predict(resid)\n",
    "        \n",
    "        corr_flux = np.median(corr_flux, axis=0)\n",
    "        \n",
    "        d = \"corr/{0}\".format(epic)\n",
    "        fn = os.path.join(d, \"{0}.h5\".format(i+1))\n",
    "        try:\n",
    "            os.makedirs(d)\n",
    "        except os.error:\n",
    "            pass\n",
    "        corr = np.array(zip(lc.time, corr_flux), dtype=[(\"time\", float), (\"corr_flux\", float)])\n",
    "        pred = np.array(map(tuple, np.vstack((t, np.median(y, axis=0))).T),\n",
    "                        dtype=[(\"time_since_transit\", float), (\"model_flux\", float)])\n",
    "        with h5py.File(fn, \"w\") as f:\n",
    "            f.attrs[\"period\"] = period\n",
    "            f.attrs[\"t0\"] = t0\n",
    "            f.create_dataset(\"corr_data\", data=corr)\n",
    "            f.create_dataset(\"model\", data=pred)\n",
    "        \n",
    "        pl.clf()\n",
    "        tt = (lc.time - t0 + 0.5*period) % period - 0.5 * period\n",
    "        pl.plot(tt, corr_flux, \".k\")\n",
    "        pl.plot(t, np.median(y, axis=0), \"g\")\n",
    "        pl.xlim(-2, 2)\n",
    "        pl.savefig(os.path.join(d, \"{0}.png\".format(i+1)))\n",
    "    return rows"
   ]
  },
  {
   "cell_type": "code",
   "execution_count": 8,
   "metadata": {
    "collapsed": false
   },
   "outputs": [
    {
     "name": "stdout",
     "output_type": "stream",
     "text": [
      "$201257461.01$ & $50.26780 \\pm {0.00729}$ & $20.3789 \\pm {0.0164}$ & $10.34 \\pm {7.59}$ & $80.05 \\pm {4.50}$ & $0.2320 \\pm {0.0064}$ & $381 \\pm {13} $ \\\\\n"
     ]
    }
   ],
   "source": [
    "r = process_row_2(201257461)[0]\n",
    "print(\"$\" + r.replace(\" & \", \"$ & $\")[:-1] + r\"$ \\\\\")"
   ]
  },
  {
   "cell_type": "code",
   "execution_count": null,
   "metadata": {
    "collapsed": false,
    "scrolled": true
   },
   "outputs": [],
   "source": [
    "rows = [r for r in (process_row_2(e) for e in candidates) if r is not None]"
   ]
  },
  {
   "cell_type": "code",
   "execution_count": null,
   "metadata": {
    "collapsed": false
   },
   "outputs": [],
   "source": [
    "txt = r\"\"\"\n",
    "\\clearpage\n",
    "%\\LongTables\n",
    "\\begin{deluxetable*}{lcccccc}\n",
    "\\tablewidth{0pt}\n",
    "\\tabletypesize{\\scriptsize}\n",
    "\\tablecaption{Planet Properties for all Objects of Interest \\label{Tab:Planets}}\n",
    "\\tablehead{\n",
    "\\colhead{Candidate} &\n",
    "\\colhead{Period (days)} &\n",
    "\\colhead{Epoch (BJD-2456808)} &\n",
    "\\colhead{Radius ($R_\\oplus$)} &\n",
    "\\colhead{$a/R_\\star$} &\n",
    "\\colhead{$a$ (AU)} &\n",
    "\\colhead{$T_\\mathrm{eq}$ (K)}\n",
    "}\n",
    "\\startdata\n",
    "DATADATA\n",
    "\\enddata\n",
    "\\tablecomments{These values and uncertainties are given by the mean and\n",
    "standard deviation of MCMC posterior samplings.}\n",
    "\\tablenotetext{1}{Parameters inferred from spectroscopic observations.}\n",
    "\\end{deluxetable*}\n",
    "\"\"\".replace(\"DATADATA\", \"\\\\\\\\ \\n\".join([\"$\" + r.replace(\" & \", \"$ & $\")[:-1] + r\"$ \" for _ in rows for r in _]))"
   ]
  },
  {
   "cell_type": "code",
   "execution_count": null,
   "metadata": {
    "collapsed": false
   },
   "outputs": [],
   "source": [
    "with open(\"table_planets.tex\", \"w\") as f:\n",
    "    f.write(txt)"
   ]
  },
  {
   "cell_type": "code",
   "execution_count": null,
   "metadata": {
    "collapsed": false
   },
   "outputs": [],
   "source": [
    "print(txt)"
   ]
  },
  {
   "cell_type": "code",
   "execution_count": 280,
   "metadata": {
    "collapsed": false
   },
   "outputs": [],
   "source": [
    "def get_aperture(epic):\n",
    "    datadir = \"/export/bbq2/dfm/k2/web\"\n",
    "    epicid = str(epic)\n",
    "    fn = os.path.join(datadir,\n",
    "                      \"lightcurves/c1/{0}00000/{1}000/ktwo{2}-c01_lpd-lc.fits\"\n",
    "                      .format(epicid[:4], epicid[4:6], epicid))\n",
    "\n",
    "    aps = fitsio.read(fn, 2)\n",
    "    var = aps[\"cdpp6\"]\n",
    "    var[var < 0.0] = np.inf\n",
    "    i = np.argmin(var)\n",
    "\n",
    "    return aps[i][\"radius\"]"
   ]
  },
  {
   "cell_type": "code",
   "execution_count": 284,
   "metadata": {
    "collapsed": false
   },
   "outputs": [],
   "source": [
    "pd.DataFrame(dict(epic=candidates, radius=map(get_aperture, candidates))).to_csv(\"apertures.csv\", index=False)"
   ]
  },
  {
   "cell_type": "code",
   "execution_count": null,
   "metadata": {
    "collapsed": true
   },
   "outputs": [],
   "source": []
  }
 ],
 "metadata": {
  "kernelspec": {
   "display_name": "Python 2",
   "language": "python",
   "name": "python2"
  },
  "language_info": {
   "codemirror_mode": {
    "name": "ipython",
    "version": 2
   },
   "file_extension": ".py",
   "mimetype": "text/x-python",
   "name": "python",
   "nbconvert_exporter": "python",
   "pygments_lexer": "ipython2",
   "version": "2.7.9"
  }
 },
 "nbformat": 4,
 "nbformat_minor": 0
}
